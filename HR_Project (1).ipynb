{
 "cells": [
  {
   "cell_type": "markdown",
   "id": "90f6ec32",
   "metadata": {},
   "source": [
    "# IBM HR Attrition"
   ]
  },
  {
   "cell_type": "markdown",
   "id": "27918dc9",
   "metadata": {},
   "source": [
    "Attrition: When an employee leaves the company due to resignation or retirement, then it is called Attrition. Employees leave the company for personal and professional reasons like retirement, lower growth potential, lower work satisfaction, lower pay rate, bad work environment, etc. Attrition is part and parcel of any business. Attrition is a cause of concern when it crosses a limit.\n",
    "\n",
    "The attrition rate, also known as churn rate, can be defined as the rate at which employees leave an organization from a specific group over a particular period of time.\n",
    "\n",
    "The dataset for the analysis is taken from Kaggle. To get insights about what factors contribute to employee attrition, we use Python and libraries like pandas, matplotlib, and seaborn. In this blog, we mostly talk about absolute and percentage values."
   ]
  },
  {
   "cell_type": "code",
   "execution_count": 1,
   "id": "cdb8bcf0",
   "metadata": {},
   "outputs": [],
   "source": [
    "#importing packages\n",
    "import pandas as pd\n",
    "import numpy as np \n",
    "import matplotlib.pyplot as plt\n",
    "import seaborn as sns\n",
    "import warnings\n",
    "warnings.filterwarnings('ignore')"
   ]
  },
  {
   "cell_type": "code",
   "execution_count": 2,
   "id": "8a8104fb",
   "metadata": {},
   "outputs": [
    {
     "data": {
      "text/html": [
       "<div>\n",
       "<style scoped>\n",
       "    .dataframe tbody tr th:only-of-type {\n",
       "        vertical-align: middle;\n",
       "    }\n",
       "\n",
       "    .dataframe tbody tr th {\n",
       "        vertical-align: top;\n",
       "    }\n",
       "\n",
       "    .dataframe thead th {\n",
       "        text-align: right;\n",
       "    }\n",
       "</style>\n",
       "<table border=\"1\" class=\"dataframe\">\n",
       "  <thead>\n",
       "    <tr style=\"text-align: right;\">\n",
       "      <th></th>\n",
       "      <th>Age</th>\n",
       "      <th>Attrition</th>\n",
       "      <th>BusinessTravel</th>\n",
       "      <th>DailyRate</th>\n",
       "      <th>Department</th>\n",
       "      <th>DistanceFromHome</th>\n",
       "      <th>Education</th>\n",
       "      <th>EducationField</th>\n",
       "      <th>EmployeeCount</th>\n",
       "      <th>EmployeeNumber</th>\n",
       "      <th>...</th>\n",
       "      <th>StandardHours</th>\n",
       "      <th>StockOptionLevel</th>\n",
       "      <th>TotalWorkingYears</th>\n",
       "      <th>TrainingTimesLastYear</th>\n",
       "      <th>WorkLifeBalance</th>\n",
       "      <th>YearsAtCompany</th>\n",
       "      <th>YearsInCurrentRole</th>\n",
       "      <th>YearsSinceLastPromotion</th>\n",
       "      <th>YearsWithCurrManager</th>\n",
       "      <th>Employee Source</th>\n",
       "    </tr>\n",
       "  </thead>\n",
       "  <tbody>\n",
       "    <tr>\n",
       "      <th>0</th>\n",
       "      <td>41.0</td>\n",
       "      <td>Voluntary Resignation</td>\n",
       "      <td>Travel_Rarely</td>\n",
       "      <td>1102.0</td>\n",
       "      <td>Sales</td>\n",
       "      <td>1</td>\n",
       "      <td>2.0</td>\n",
       "      <td>Life Sciences</td>\n",
       "      <td>1</td>\n",
       "      <td>1</td>\n",
       "      <td>...</td>\n",
       "      <td>80.0</td>\n",
       "      <td>0.0</td>\n",
       "      <td>8.0</td>\n",
       "      <td>0.0</td>\n",
       "      <td>1.0</td>\n",
       "      <td>6.0</td>\n",
       "      <td>4.0</td>\n",
       "      <td>0.0</td>\n",
       "      <td>5.0</td>\n",
       "      <td>Referral</td>\n",
       "    </tr>\n",
       "    <tr>\n",
       "      <th>1</th>\n",
       "      <td>41.0</td>\n",
       "      <td>Voluntary Resignation</td>\n",
       "      <td>Travel_Rarely</td>\n",
       "      <td>1102.0</td>\n",
       "      <td>Sales</td>\n",
       "      <td>1</td>\n",
       "      <td>2.0</td>\n",
       "      <td>Life Sciences</td>\n",
       "      <td>1</td>\n",
       "      <td>1</td>\n",
       "      <td>...</td>\n",
       "      <td>80.0</td>\n",
       "      <td>0.0</td>\n",
       "      <td>8.0</td>\n",
       "      <td>0.0</td>\n",
       "      <td>1.0</td>\n",
       "      <td>6.0</td>\n",
       "      <td>4.0</td>\n",
       "      <td>0.0</td>\n",
       "      <td>5.0</td>\n",
       "      <td>Referral</td>\n",
       "    </tr>\n",
       "    <tr>\n",
       "      <th>2</th>\n",
       "      <td>41.0</td>\n",
       "      <td>Voluntary Resignation</td>\n",
       "      <td>Travel_Rarely</td>\n",
       "      <td>1102.0</td>\n",
       "      <td>Sales</td>\n",
       "      <td>1</td>\n",
       "      <td>2.0</td>\n",
       "      <td>Life Sciences</td>\n",
       "      <td>1</td>\n",
       "      <td>7</td>\n",
       "      <td>...</td>\n",
       "      <td>80.0</td>\n",
       "      <td>0.0</td>\n",
       "      <td>8.0</td>\n",
       "      <td>0.0</td>\n",
       "      <td>1.0</td>\n",
       "      <td>6.0</td>\n",
       "      <td>4.0</td>\n",
       "      <td>0.0</td>\n",
       "      <td>5.0</td>\n",
       "      <td>Referral</td>\n",
       "    </tr>\n",
       "    <tr>\n",
       "      <th>3</th>\n",
       "      <td>41.0</td>\n",
       "      <td>Voluntary Resignation</td>\n",
       "      <td>Travel_Rarely</td>\n",
       "      <td>1102.0</td>\n",
       "      <td>Sales</td>\n",
       "      <td>1</td>\n",
       "      <td>2.0</td>\n",
       "      <td>Life Sciences</td>\n",
       "      <td>1</td>\n",
       "      <td>8</td>\n",
       "      <td>...</td>\n",
       "      <td>80.0</td>\n",
       "      <td>0.0</td>\n",
       "      <td>8.0</td>\n",
       "      <td>0.0</td>\n",
       "      <td>1.0</td>\n",
       "      <td>6.0</td>\n",
       "      <td>4.0</td>\n",
       "      <td>0.0</td>\n",
       "      <td>5.0</td>\n",
       "      <td>Referral</td>\n",
       "    </tr>\n",
       "    <tr>\n",
       "      <th>4</th>\n",
       "      <td>41.0</td>\n",
       "      <td>Voluntary Resignation</td>\n",
       "      <td>Travel_Rarely</td>\n",
       "      <td>1102.0</td>\n",
       "      <td>Sales</td>\n",
       "      <td>1</td>\n",
       "      <td>2.0</td>\n",
       "      <td>Life Sciences</td>\n",
       "      <td>1</td>\n",
       "      <td>9</td>\n",
       "      <td>...</td>\n",
       "      <td>80.0</td>\n",
       "      <td>0.0</td>\n",
       "      <td>8.0</td>\n",
       "      <td>0.0</td>\n",
       "      <td>1.0</td>\n",
       "      <td>6.0</td>\n",
       "      <td>4.0</td>\n",
       "      <td>0.0</td>\n",
       "      <td>5.0</td>\n",
       "      <td>Referral</td>\n",
       "    </tr>\n",
       "  </tbody>\n",
       "</table>\n",
       "<p>5 rows × 37 columns</p>\n",
       "</div>"
      ],
      "text/plain": [
       "    Age              Attrition BusinessTravel  DailyRate Department  \\\n",
       "0  41.0  Voluntary Resignation  Travel_Rarely     1102.0      Sales   \n",
       "1  41.0  Voluntary Resignation  Travel_Rarely     1102.0      Sales   \n",
       "2  41.0  Voluntary Resignation  Travel_Rarely     1102.0      Sales   \n",
       "3  41.0  Voluntary Resignation  Travel_Rarely     1102.0      Sales   \n",
       "4  41.0  Voluntary Resignation  Travel_Rarely     1102.0      Sales   \n",
       "\n",
       "  DistanceFromHome  Education EducationField EmployeeCount EmployeeNumber  \\\n",
       "0                1        2.0  Life Sciences             1              1   \n",
       "1                1        2.0  Life Sciences             1              1   \n",
       "2                1        2.0  Life Sciences             1              7   \n",
       "3                1        2.0  Life Sciences             1              8   \n",
       "4                1        2.0  Life Sciences             1              9   \n",
       "\n",
       "   ... StandardHours  StockOptionLevel TotalWorkingYears  \\\n",
       "0  ...          80.0               0.0               8.0   \n",
       "1  ...          80.0               0.0               8.0   \n",
       "2  ...          80.0               0.0               8.0   \n",
       "3  ...          80.0               0.0               8.0   \n",
       "4  ...          80.0               0.0               8.0   \n",
       "\n",
       "  TrainingTimesLastYear  WorkLifeBalance  YearsAtCompany YearsInCurrentRole  \\\n",
       "0                   0.0              1.0             6.0                4.0   \n",
       "1                   0.0              1.0             6.0                4.0   \n",
       "2                   0.0              1.0             6.0                4.0   \n",
       "3                   0.0              1.0             6.0                4.0   \n",
       "4                   0.0              1.0             6.0                4.0   \n",
       "\n",
       "  YearsSinceLastPromotion YearsWithCurrManager Employee Source  \n",
       "0                     0.0                  5.0        Referral  \n",
       "1                     0.0                  5.0        Referral  \n",
       "2                     0.0                  5.0        Referral  \n",
       "3                     0.0                  5.0        Referral  \n",
       "4                     0.0                  5.0        Referral  \n",
       "\n",
       "[5 rows x 37 columns]"
      ]
     },
     "execution_count": 2,
     "metadata": {},
     "output_type": "execute_result"
    }
   ],
   "source": [
    "#calling data\n",
    "HR_data=pd.read_csv(\"IBM HR Data new.csv\")\n",
    "HR_data.head()"
   ]
  },
  {
   "cell_type": "code",
   "execution_count": 3,
   "id": "486c7ab4",
   "metadata": {},
   "outputs": [
    {
     "name": "stdout",
     "output_type": "stream",
     "text": [
      "<class 'pandas.core.frame.DataFrame'>\n",
      "RangeIndex: 23436 entries, 0 to 23435\n",
      "Data columns (total 37 columns):\n",
      " #   Column                    Non-Null Count  Dtype  \n",
      "---  ------                    --------------  -----  \n",
      " 0   Age                       23433 non-null  float64\n",
      " 1   Attrition                 23423 non-null  object \n",
      " 2   BusinessTravel            23428 non-null  object \n",
      " 3   DailyRate                 23424 non-null  float64\n",
      " 4   Department                23425 non-null  object \n",
      " 5   DistanceFromHome          23427 non-null  object \n",
      " 6   Education                 23424 non-null  float64\n",
      " 7   EducationField            23427 non-null  object \n",
      " 8   EmployeeCount             23431 non-null  object \n",
      " 9   EmployeeNumber            23435 non-null  object \n",
      " 10  Application ID            23433 non-null  object \n",
      " 11  EnvironmentSatisfaction   23427 non-null  float64\n",
      " 12  Gender                    23426 non-null  object \n",
      " 13  HourlyRate                23427 non-null  object \n",
      " 14  JobInvolvement            23427 non-null  float64\n",
      " 15  JobLevel                  23429 non-null  float64\n",
      " 16  JobRole                   23427 non-null  object \n",
      " 17  JobSatisfaction           23427 non-null  object \n",
      " 18  MaritalStatus             23425 non-null  object \n",
      " 19  MonthlyIncome             23423 non-null  object \n",
      " 20  MonthlyRate               23425 non-null  float64\n",
      " 21  NumCompaniesWorked        23427 non-null  float64\n",
      " 22  Over18                    23426 non-null  object \n",
      " 23  OverTime                  23424 non-null  object \n",
      " 24  PercentSalaryHike         23422 non-null  object \n",
      " 25  PerformanceRating         23426 non-null  float64\n",
      " 26  RelationshipSatisfaction  23428 non-null  float64\n",
      " 27  StandardHours             23426 non-null  float64\n",
      " 28  StockOptionLevel          23427 non-null  float64\n",
      " 29  TotalWorkingYears         23428 non-null  float64\n",
      " 30  TrainingTimesLastYear     23425 non-null  float64\n",
      " 31  WorkLifeBalance           23426 non-null  float64\n",
      " 32  YearsAtCompany            23423 non-null  float64\n",
      " 33  YearsInCurrentRole        23421 non-null  float64\n",
      " 34  YearsSinceLastPromotion   23425 non-null  float64\n",
      " 35  YearsWithCurrManager      23429 non-null  float64\n",
      " 36  Employee Source           23424 non-null  object \n",
      "dtypes: float64(19), object(18)\n",
      "memory usage: 6.6+ MB\n"
     ]
    }
   ],
   "source": [
    "#basic informations\n",
    "HR_data.info()"
   ]
  },
  {
   "cell_type": "code",
   "execution_count": null,
   "id": "f5a7cc7f",
   "metadata": {},
   "outputs": [],
   "source": [
    "HR_data.dtypes"
   ]
  },
  {
   "cell_type": "markdown",
   "id": "1129c26c",
   "metadata": {},
   "source": [
    "The data types are float and object."
   ]
  },
  {
   "cell_type": "code",
   "execution_count": null,
   "id": "3ab83a52",
   "metadata": {},
   "outputs": [],
   "source": [
    "#shape\n",
    "HR_data.shape"
   ]
  },
  {
   "cell_type": "markdown",
   "id": "783d88ca",
   "metadata": {},
   "source": [
    "There are 23436 rows and 37 columns"
   ]
  },
  {
   "cell_type": "code",
   "execution_count": null,
   "id": "ffe0b5b8",
   "metadata": {},
   "outputs": [],
   "source": [
    "#features & target\n",
    "HR_data.columns"
   ]
  },
  {
   "cell_type": "markdown",
   "id": "48e8c4c1",
   "metadata": {},
   "source": [
    "In all we have 36 features consisting of both the categorical as well as the numerical features. The target variable is the 'Attrition' of the employee which can be either a Voluntary resignation or Currently working."
   ]
  },
  {
   "cell_type": "code",
   "execution_count": null,
   "id": "4256f8fa",
   "metadata": {},
   "outputs": [],
   "source": [
    "#numerical columns\n",
    "num_cols=[features for features in HR_data.columns if HR_data[features].dtypes !='O']\n",
    "num_cols"
   ]
  },
  {
   "cell_type": "code",
   "execution_count": null,
   "id": "a9d4a53a",
   "metadata": {},
   "outputs": [],
   "source": [
    "#categorical columns\n",
    "cat_cols=HR_data.select_dtypes(include='object')\n",
    "cat_cols.columns"
   ]
  },
  {
   "cell_type": "markdown",
   "id": "221eb087",
   "metadata": {},
   "source": [
    "There are 25 numerical columns and 12 categorical columns."
   ]
  },
  {
   "cell_type": "code",
   "execution_count": null,
   "id": "60d0b3ed",
   "metadata": {},
   "outputs": [],
   "source": [
    "HR_data.nunique()"
   ]
  },
  {
   "cell_type": "code",
   "execution_count": null,
   "id": "c576b481",
   "metadata": {},
   "outputs": [],
   "source": [
    "HR_data=HR_data.drop(['EmployeeNumber'],axis=1)"
   ]
  },
  {
   "cell_type": "code",
   "execution_count": null,
   "id": "806c6953",
   "metadata": {},
   "outputs": [],
   "source": [
    "HR_data=HR_data.drop(['Application ID'],axis=1)"
   ]
  },
  {
   "cell_type": "code",
   "execution_count": null,
   "id": "a0923fce",
   "metadata": {},
   "outputs": [],
   "source": [
    "HR_data.head()"
   ]
  },
  {
   "cell_type": "code",
   "execution_count": null,
   "id": "a0ed1e89",
   "metadata": {},
   "outputs": [],
   "source": [
    "HR_data.describe().T"
   ]
  },
  {
   "cell_type": "code",
   "execution_count": null,
   "id": "df25bf02",
   "metadata": {},
   "outputs": [],
   "source": [
    "#null values\n",
    "HR_data.isna().sum()"
   ]
  },
  {
   "cell_type": "code",
   "execution_count": null,
   "id": "b44c73ae",
   "metadata": {},
   "outputs": [],
   "source": [
    "#null value percentage\n",
    "Nullvalue_percentage=(HR_data.isna().sum()/len(HR_data))*100\n",
    "Nullvalue_percentage"
   ]
  },
  {
   "cell_type": "code",
   "execution_count": null,
   "id": "255d727b",
   "metadata": {},
   "outputs": [],
   "source": [
    "Total_nullvalue_percentage=Nullvalue_percentage.sum()\n",
    "Total_nullvalue_percentage"
   ]
  },
  {
   "cell_type": "markdown",
   "id": "62eafb2d",
   "metadata": {},
   "source": [
    "\n",
    "\n",
    "The total percentage of null values present in the dataset is 1.5%."
   ]
  },
  {
   "cell_type": "code",
   "execution_count": null,
   "id": "bef51dd6",
   "metadata": {},
   "outputs": [],
   "source": [
    "#histogram for numerical features\n",
    "HR_data.hist(figsize=(18, 14))"
   ]
  },
  {
   "cell_type": "markdown",
   "id": "0e2fcdba",
   "metadata": {},
   "source": [
    "# Inference from histogram\n",
    "1)The age graph is almost normally distibuted.The minimum & maximum age of workforce is 18 & 60.Most of the employees are in between the age group 30-40.\n",
    "2)The daily rate is between 100 and 1500.\n",
    "3)Majority of the employees living space distance from company is less than 10km.\n",
    "4)Most of the employees education level is 3.\n",
    "5)The higest rating for the environment satisfaction is 3 & 4.\n",
    "6)The hourly rate is between 20-100.\n",
    "7)The higest rating for job involvement is 3.\n",
    "8)Majority of the employees joblevel is 1 & 2.\n",
    "9)3 & 4 has the higest rating for job satisfaction.\n",
    "10)Monthly salary is between 1000-20000.\n",
    "11)Major number of employees worked for more than one company before joining IBM.\n",
    "12)Many of them have salary hike percentage less than 15%.\n",
    "13)3 is the highest performance rating of employees.\n",
    "14)Most of the employees relationship satisfaction rating is 3 & 4.\n",
    "15)The satandared working hours of employees is 80hr.\n",
    "16)Only few employees have taken stock option plan.\n",
    "17)Most of the employees working years is 20 and below.\n",
    "18)Many employees got 2 time training for last year.\n",
    "19)3 is the higest rating for work life balance.\n",
    "20)Many of the employees are working for IBM for less than 13 years.\n",
    "21)Emloyees are working in the current role for less than 10 years.\n",
    "22)Majority of them got promotions & working with the current manager."
   ]
  },
  {
   "cell_type": "code",
   "execution_count": null,
   "id": "bab1ee2f",
   "metadata": {},
   "outputs": [],
   "source": [
    "#outlier visualization \n",
    "HR_data.plot(kind='box',subplots=True,layout=(5,5),figsize=(15,15),title='Outlier Visualization')\n",
    "plt.show()"
   ]
  },
  {
   "cell_type": "markdown",
   "id": "d2897154",
   "metadata": {},
   "source": [
    "Some columns in the dataset contain outliers.It will be handelled during data pre-processing."
   ]
  },
  {
   "cell_type": "markdown",
   "id": "a668ef1f",
   "metadata": {},
   "source": [
    "# Exploratory Data Visualization"
   ]
  },
  {
   "cell_type": "markdown",
   "id": "4a231b4b",
   "metadata": {},
   "source": [
    "# Univariate Visualization"
   ]
  },
  {
   "cell_type": "markdown",
   "id": "4d5d927e",
   "metadata": {},
   "source": [
    "# Target Column"
   ]
  },
  {
   "cell_type": "code",
   "execution_count": null,
   "id": "8f1f287b",
   "metadata": {},
   "outputs": [],
   "source": [
    "#count plot of target.\n",
    "sns.countplot(x='Attrition', data=HR_data)"
   ]
  },
  {
   "cell_type": "code",
   "execution_count": null,
   "id": "095e15f1",
   "metadata": {},
   "outputs": [],
   "source": [
    "#pie chart\n",
    "plt.rcParams['figure.figsize'] =5,5\n",
    "labels = HR_data['Attrition'].value_counts().index.tolist()\n",
    "sizes = HR_data['Attrition'].value_counts().tolist()\n",
    "explode = (0, 0.1)\n",
    "colors = ['yellowgreen', 'lightcoral']\n",
    "plt.pie(sizes, explode=explode, labels=labels, colors=colors, autopct='%1.1f%%',startangle=90, textprops={'fontsize': 14})\n",
    "plt.show()"
   ]
  },
  {
   "cell_type": "markdown",
   "id": "8c6baa95",
   "metadata": {},
   "source": [
    "# Inference\n",
    "The figure showing is the figure of employee attrition. In this dataset, 3709 employees left the company while 19714 stay(ie only 15.8% of the employees left, rest are still working in IBM).The data is very imbalanced."
   ]
  },
  {
   "cell_type": "markdown",
   "id": "0e137fee",
   "metadata": {},
   "source": [
    "# Visualization for Numerical Features"
   ]
  },
  {
   "cell_type": "markdown",
   "id": "9e890b08",
   "metadata": {},
   "source": [
    "# Age"
   ]
  },
  {
   "cell_type": "code",
   "execution_count": null,
   "id": "ede0abdf",
   "metadata": {},
   "outputs": [],
   "source": [
    "#distplot of Age column\n",
    "plt.figure(figsize=[10,8])\n",
    "sns.distplot(HR_data['Age'],hist=True,kde=True,color='k',bins=10)"
   ]
  },
  {
   "cell_type": "markdown",
   "id": "2030fcb6",
   "metadata": {},
   "source": [
    "# Inference\n",
    "The graph is normally distributed.\n",
    "The minimum age of workforce is 18.\n",
    "The maximum age of workforce is 60.\n",
    "Majority of the employees lie between the age range 30-40."
   ]
  },
  {
   "cell_type": "markdown",
   "id": "2eea5a4d",
   "metadata": {},
   "source": [
    "# distplot of all numerical features"
   ]
  },
  {
   "cell_type": "code",
   "execution_count": null,
   "id": "186e24f3",
   "metadata": {},
   "outputs": [],
   "source": [
    "fig,ax = plt.subplots(6,4, figsize=(12,12))                \n",
    "sns.distplot(HR_data['DailyRate'], ax = ax[0,0]) \n",
    "sns.distplot(HR_data['DistanceFromHome'], ax = ax[0,1]) \n",
    "sns.distplot(HR_data['Education'], ax = ax[0,2]) \n",
    "sns.distplot(HR_data['EmployeeCount'], ax = ax[0,3]) \n",
    "sns.distplot(HR_data['EnvironmentSatisfaction'], ax = ax[1,0]) \n",
    "sns.distplot(HR_data['HourlyRate'], ax = ax[1,1]) \n",
    "sns.distplot(HR_data['JobInvolvement'], ax = ax[1,2]) \n",
    "sns.distplot(HR_data['JobLevel'], ax = ax[1,3]) \n",
    "sns.distplot(HR_data['JobSatisfaction'], ax = ax[2,0]) \n",
    "sns.distplot(HR_data['MonthlyIncome'], ax = ax[2,1])\n",
    "sns.distplot(HR_data['MonthlyRate'], ax = ax[2,2])\n",
    "sns.distplot(HR_data['NumCompaniesWorked'], ax = ax[2,3])\n",
    "sns.distplot(HR_data['PercentSalaryHike'], ax = ax[3,0])\n",
    "sns.distplot(HR_data['PerformanceRating'], ax = ax[3,1])\n",
    "sns.distplot(HR_data['RelationshipSatisfaction'], ax = ax[3,2])\n",
    "sns.distplot(HR_data['StandardHours'], ax = ax[3,3])\n",
    "sns.distplot(HR_data['StockOptionLevel'], ax = ax[4,0])\n",
    "sns.distplot(HR_data['TotalWorkingYears'], ax = ax[4,1])\n",
    "sns.distplot(HR_data['TrainingTimesLastYear'], ax = ax[4,2])\n",
    "sns.distplot(HR_data['WorkLifeBalance'], ax = ax[4,3])\n",
    "sns.distplot(HR_data['YearsAtCompany'], ax = ax[5,0])\n",
    "sns.distplot(HR_data['YearsInCurrentRole'], ax = ax[5,1])\n",
    "sns.distplot(HR_data['YearsSinceLastPromotion'], ax = ax[5,2])\n",
    "sns.distplot(HR_data['YearsWithCurrManager'], ax = ax[5,3])\n",
    "plt.tight_layout()\n",
    "plt.show()"
   ]
  },
  {
   "cell_type": "markdown",
   "id": "8a995eea",
   "metadata": {},
   "source": [
    "# Inference\n",
    "Using distplot we find out the distribution of all numerical features.Here we can see that EmployeeCount and StandardHours are not continues."
   ]
  },
  {
   "cell_type": "markdown",
   "id": "08641a4e",
   "metadata": {},
   "source": [
    "# Distance from home"
   ]
  },
  {
   "cell_type": "code",
   "execution_count": null,
   "id": "372e221c",
   "metadata": {},
   "outputs": [],
   "source": [
    "plt.figure(figsize=[5,5])\n",
    "plt.xticks(rotation='vertical')\n",
    "sns.countplot(HR_data['DistanceFromHome'])"
   ]
  },
  {
   "cell_type": "markdown",
   "id": "e36af26f",
   "metadata": {},
   "source": [
    "# Inference\n",
    "From this graph we can see that around 3400 employees live near to the company,ie within 1 or 2km."
   ]
  },
  {
   "cell_type": "markdown",
   "id": "aecf9ccd",
   "metadata": {},
   "source": [
    "# Education"
   ]
  },
  {
   "cell_type": "code",
   "execution_count": null,
   "id": "79098341",
   "metadata": {},
   "outputs": [],
   "source": [
    "plt.figure(figsize=[5,5])\n",
    "plt.xticks(rotation='vertical')\n",
    "sns.countplot(HR_data['Education'])"
   ]
  },
  {
   "cell_type": "markdown",
   "id": "d1665fd8",
   "metadata": {},
   "source": [
    "# Inference\n",
    "This feature have five levels.They are:\n",
    "1:'Below College',2:'College',3:'Bachelor',4:'Master',5:'Doctor'.\n",
    "Many employees have Bachelors level of education."
   ]
  },
  {
   "cell_type": "markdown",
   "id": "5dc020cd",
   "metadata": {},
   "source": [
    "# Environment satisfaction"
   ]
  },
  {
   "cell_type": "code",
   "execution_count": null,
   "id": "cabc87c1",
   "metadata": {},
   "outputs": [],
   "source": [
    "plt.figure(figsize=[5,5])\n",
    "plt.xticks(rotation='vertical')\n",
    "sns.countplot(HR_data['EnvironmentSatisfaction'])"
   ]
  },
  {
   "cell_type": "markdown",
   "id": "f4576e80",
   "metadata": {},
   "source": [
    "# Inference\n",
    "It is the satisfaction of the employee with the working environment.This has four levels:\n",
    "    1:'Low',2:'Medium',3:'High',4:'Very High'\n",
    "around 7200 employees vote for level 3 & 4 ie they are satisfied with the working environment.Rest of them vote for level 1 & 2                    "
   ]
  },
  {
   "cell_type": "markdown",
   "id": "581814b1",
   "metadata": {},
   "source": [
    "# Hourly rate"
   ]
  },
  {
   "cell_type": "code",
   "execution_count": null,
   "id": "036b6f84",
   "metadata": {},
   "outputs": [],
   "source": [
    "plt.figure(figsize=[10,10])\n",
    "plt.xticks(rotation='vertical')\n",
    "sns.countplot(HR_data['HourlyRate'])"
   ]
  },
  {
   "cell_type": "markdown",
   "id": "85703131",
   "metadata": {},
   "source": [
    "Hourly rate is between 20 to 100."
   ]
  },
  {
   "cell_type": "markdown",
   "id": "05a5e6b4",
   "metadata": {},
   "source": [
    "# Job involvement"
   ]
  },
  {
   "cell_type": "code",
   "execution_count": null,
   "id": "77ceec73",
   "metadata": {},
   "outputs": [],
   "source": [
    "plt.figure(figsize=[5,5])\n",
    "plt.xticks(rotation='vertical')\n",
    "sns.countplot(HR_data['JobInvolvement'])"
   ]
  },
  {
   "cell_type": "markdown",
   "id": "5e3d03d3",
   "metadata": {},
   "source": [
    "# Inference\n",
    "It contains four level.They are:\n",
    "     1:'Low',2:'Medium',3:'High',4:'Very High'\n",
    "Around 13900 are voting for level 3,ie they are highly involved in their job.                        "
   ]
  },
  {
   "cell_type": "markdown",
   "id": "67e1bc5e",
   "metadata": {},
   "source": [
    "# Job level"
   ]
  },
  {
   "cell_type": "code",
   "execution_count": null,
   "id": "439364e7",
   "metadata": {},
   "outputs": [],
   "source": [
    "plt.figure(figsize=[5,5])\n",
    "plt.xticks(rotation='vertical')\n",
    "sns.countplot(HR_data['JobLevel'])"
   ]
  },
  {
   "cell_type": "markdown",
   "id": "a0b2377e",
   "metadata": {},
   "source": [
    "# Inference\n",
    "It's the position of employees in the company.Around 8700 employees are at 1st and 2nd level."
   ]
  },
  {
   "cell_type": "markdown",
   "id": "1acd741d",
   "metadata": {},
   "source": [
    "# Job satisfaction"
   ]
  },
  {
   "cell_type": "code",
   "execution_count": null,
   "id": "9f11b36c",
   "metadata": {},
   "outputs": [],
   "source": [
    "plt.figure(figsize=[5,5])\n",
    "plt.xticks(rotation='vertical')\n",
    "sns.countplot(HR_data['JobSatisfaction'])"
   ]
  },
  {
   "cell_type": "markdown",
   "id": "1ac74154",
   "metadata": {},
   "source": [
    "# Inference\n",
    "It is the satisfaction level of employees in their job.There are four level:\n",
    "    1:'Low',2:'Medium',3:'High',4:'Very High'\n",
    "Around 14400 employees are satisfied in their job, ie are voting 3 & 4.                    "
   ]
  },
  {
   "cell_type": "markdown",
   "id": "1502b886",
   "metadata": {},
   "source": [
    "# Monthly income"
   ]
  },
  {
   "cell_type": "code",
   "execution_count": null,
   "id": "68ecb702",
   "metadata": {},
   "outputs": [],
   "source": [
    "plt.figure(figsize=[10,10])\n",
    "plt.xticks(rotation='vertical')\n",
    "sns.countplot(HR_data['MonthlyIncome'])"
   ]
  },
  {
   "cell_type": "markdown",
   "id": "8d634f65",
   "metadata": {},
   "source": [
    "# Number of companies worked"
   ]
  },
  {
   "cell_type": "code",
   "execution_count": null,
   "id": "58c3afbf",
   "metadata": {},
   "outputs": [],
   "source": [
    "plt.figure(figsize=[5,5])\n",
    "plt.xticks(rotation='vertical')\n",
    "sns.countplot(HR_data['NumCompaniesWorked'])"
   ]
  },
  {
   "cell_type": "markdown",
   "id": "5f817c45",
   "metadata": {},
   "source": [
    "# Inference\n",
    "The number of companies in which the emloyees worked before they joined IBM.Different employees worked for nine different companies.Around 8320 employees worked for only 1 company before joining IBM."
   ]
  },
  {
   "cell_type": "markdown",
   "id": "56bec834",
   "metadata": {},
   "source": [
    "# Percentage salary hike"
   ]
  },
  {
   "cell_type": "code",
   "execution_count": null,
   "id": "5218fe26",
   "metadata": {},
   "outputs": [],
   "source": [
    "plt.figure(figsize=[5,5])\n",
    "plt.xticks(rotation='vertical')\n",
    "sns.countplot(HR_data['PercentSalaryHike'])"
   ]
  },
  {
   "cell_type": "markdown",
   "id": "c55bbced",
   "metadata": {},
   "source": [
    "# Inference\n",
    "It's the percentage of salary hike.The many employees got upto 14% of salary hike every year."
   ]
  },
  {
   "cell_type": "markdown",
   "id": "1e995e2d",
   "metadata": {},
   "source": [
    "# Performance rating"
   ]
  },
  {
   "cell_type": "code",
   "execution_count": null,
   "id": "d4b78d47",
   "metadata": {},
   "outputs": [],
   "source": [
    "plt.figure(figsize=[5,5])\n",
    "plt.xticks(rotation='vertical')\n",
    "sns.countplot(HR_data['PerformanceRating'])"
   ]
  },
  {
   "cell_type": "markdown",
   "id": "ba7132ac",
   "metadata": {},
   "source": [
    "# Inference\n",
    "It's the performance of the employee in the company.\n",
    "1:'Low',2:'Good',3:'Excellent',4:'Outstanding'\n",
    "All the employees have performance rating 3 and 4,ie all are performing their maximum                "
   ]
  },
  {
   "cell_type": "markdown",
   "id": "b99e1c7b",
   "metadata": {},
   "source": [
    "# Relationship satisfaction"
   ]
  },
  {
   "cell_type": "code",
   "execution_count": null,
   "id": "374706fc",
   "metadata": {},
   "outputs": [],
   "source": [
    "plt.figure(figsize=[5,5])\n",
    "plt.xticks(rotation='vertical')\n",
    "sns.countplot(HR_data['RelationshipSatisfaction'])"
   ]
  },
  {
   "cell_type": "markdown",
   "id": "734e6018",
   "metadata": {},
   "source": [
    "# Inference\n",
    "Contain four levels.\n",
    "1:'Low',2:'Medium',3:'High',4:'Very High'\n",
    "Many of them are rating 3 & 4.                "
   ]
  },
  {
   "cell_type": "markdown",
   "id": "a5df16d0",
   "metadata": {},
   "source": [
    "# Stock option level"
   ]
  },
  {
   "cell_type": "code",
   "execution_count": null,
   "id": "3200ab51",
   "metadata": {},
   "outputs": [],
   "source": [
    "plt.figure(figsize=[5,5])\n",
    "plt.xticks(rotation='vertical')\n",
    "sns.countplot(HR_data['StockOptionLevel'])"
   ]
  },
  {
   "cell_type": "markdown",
   "id": "c4ac9227",
   "metadata": {},
   "source": [
    "# Inference\n",
    "Stock option plan is an employee benefit plan isssued by the company to encourage employee ownership in the company.\n"
   ]
  },
  {
   "cell_type": "markdown",
   "id": "740a5a65",
   "metadata": {},
   "source": [
    "# Total working years"
   ]
  },
  {
   "cell_type": "code",
   "execution_count": null,
   "id": "218e598e",
   "metadata": {},
   "outputs": [],
   "source": [
    "plt.figure(figsize=[5,5])\n",
    "plt.xticks(rotation='vertical')\n",
    "sns.countplot(HR_data['TotalWorkingYears'])"
   ]
  },
  {
   "cell_type": "markdown",
   "id": "b68844e2",
   "metadata": {},
   "source": [
    "# Inference\n",
    "Many employees are working for many years.The employees working for 10 years has the higest count."
   ]
  },
  {
   "cell_type": "markdown",
   "id": "9a2548e9",
   "metadata": {},
   "source": [
    "# Training times last year"
   ]
  },
  {
   "cell_type": "code",
   "execution_count": null,
   "id": "a4467b21",
   "metadata": {},
   "outputs": [],
   "source": [
    "plt.figure(figsize=[5,5])\n",
    "plt.xticks(rotation='vertical')\n",
    "sns.countplot(HR_data['TrainingTimesLastYear'])"
   ]
  },
  {
   "cell_type": "markdown",
   "id": "fd701858",
   "metadata": {},
   "source": [
    "# Inference\n",
    "How much time does the employee got training for last year.\n",
    "Most of them got 2 to 3 time."
   ]
  },
  {
   "cell_type": "markdown",
   "id": "33a7cee9",
   "metadata": {},
   "source": [
    "# Work life balance"
   ]
  },
  {
   "cell_type": "code",
   "execution_count": null,
   "id": "c757a341",
   "metadata": {},
   "outputs": [],
   "source": [
    "plt.figure(figsize=[5,5])\n",
    "plt.xticks(rotation='vertical')\n",
    "sns.countplot(HR_data['WorkLifeBalance'])"
   ]
  },
  {
   "cell_type": "markdown",
   "id": "627ad497",
   "metadata": {},
   "source": [
    "# Inference \n",
    "It's the rating given by employees that how their work and personal life is balanced.\n",
    "It has four level;1:'Low',2:'Good',3:'Better',4:'Best'\n",
    " Many of them are rating as 3.               "
   ]
  },
  {
   "cell_type": "markdown",
   "id": "51fd2d1b",
   "metadata": {},
   "source": [
    "# Years at company"
   ]
  },
  {
   "cell_type": "code",
   "execution_count": null,
   "id": "f819e7cd",
   "metadata": {},
   "outputs": [],
   "source": [
    "plt.figure(figsize=[5,5])\n",
    "plt.xticks(rotation='vertical')\n",
    "sns.countplot(HR_data['YearsAtCompany'])"
   ]
  },
  {
   "cell_type": "markdown",
   "id": "bfb514bd",
   "metadata": {},
   "source": [
    "# Inference\n",
    "How many years in which the employee is working for IBM.\n",
    "Most of the employees are working for less than 11 years."
   ]
  },
  {
   "cell_type": "markdown",
   "id": "02c7e9f1",
   "metadata": {},
   "source": [
    "# Years in current role"
   ]
  },
  {
   "cell_type": "code",
   "execution_count": null,
   "id": "d4e4d331",
   "metadata": {},
   "outputs": [],
   "source": [
    "plt.figure(figsize=[5,5])\n",
    "plt.xticks(rotation='vertical')\n",
    "sns.countplot(HR_data['YearsInCurrentRole'])"
   ]
  },
  {
   "cell_type": "markdown",
   "id": "15122e5f",
   "metadata": {},
   "source": [
    "# Inference\n",
    "The higest count is for 2 years."
   ]
  },
  {
   "cell_type": "markdown",
   "id": "879da865",
   "metadata": {},
   "source": [
    "# Years since last promotion"
   ]
  },
  {
   "cell_type": "code",
   "execution_count": null,
   "id": "1ef4b287",
   "metadata": {},
   "outputs": [],
   "source": [
    "plt.figure(figsize=[5,5])\n",
    "plt.xticks(rotation='vertical')\n",
    "sns.countplot(HR_data['YearsSinceLastPromotion'])"
   ]
  },
  {
   "cell_type": "markdown",
   "id": "a495692b",
   "metadata": {},
   "source": [
    "# Inference\n",
    "It's the years passed since their last promotion.\n",
    "The higest count is for 0 years."
   ]
  },
  {
   "cell_type": "markdown",
   "id": "a278f96a",
   "metadata": {},
   "source": [
    "# Years with current manager"
   ]
  },
  {
   "cell_type": "code",
   "execution_count": null,
   "id": "106e1ef8",
   "metadata": {},
   "outputs": [],
   "source": [
    "plt.figure(figsize=[5,5])\n",
    "plt.xticks(rotation='vertical')\n",
    "sns.countplot(HR_data['YearsWithCurrManager'])"
   ]
  },
  {
   "cell_type": "markdown",
   "id": "cf060616",
   "metadata": {},
   "source": [
    "# Inference\n",
    "The higest count for working in IBM with current manager is for 2 years."
   ]
  },
  {
   "cell_type": "markdown",
   "id": "50fe5da8",
   "metadata": {},
   "source": [
    "# Visualization for Categorical Features"
   ]
  },
  {
   "cell_type": "markdown",
   "id": "1979b4f2",
   "metadata": {},
   "source": [
    "# Business travel"
   ]
  },
  {
   "cell_type": "code",
   "execution_count": null,
   "id": "c364016e",
   "metadata": {},
   "outputs": [],
   "source": [
    "sns.countplot(x='BusinessTravel', data=HR_data)"
   ]
  },
  {
   "cell_type": "markdown",
   "id": "72eeb6a6",
   "metadata": {},
   "source": [
    "# Inference\n",
    "Majority of the employees belong to travel rarely group. This indicates that most of them did not have a job which asked them for frequent travelling."
   ]
  },
  {
   "cell_type": "markdown",
   "id": "ccd85509",
   "metadata": {},
   "source": [
    "# Department"
   ]
  },
  {
   "cell_type": "code",
   "execution_count": null,
   "id": "ba18229a",
   "metadata": {},
   "outputs": [],
   "source": [
    "plt.figure(figsize=[5,5])\n",
    "plt.xticks(rotation='vertical')\n",
    "sns.countplot(HR_data['Department'])"
   ]
  },
  {
   "cell_type": "markdown",
   "id": "0997b143",
   "metadata": {},
   "source": [
    "# Inference\n",
    "Major employees work under Research & Development department."
   ]
  },
  {
   "cell_type": "markdown",
   "id": "897edaf8",
   "metadata": {},
   "source": [
    "# Education field"
   ]
  },
  {
   "cell_type": "code",
   "execution_count": null,
   "id": "367d9e7b",
   "metadata": {},
   "outputs": [],
   "source": [
    "plt.figure(figsize=[5,5])\n",
    "plt.xticks(rotation='vertical')\n",
    "sns.countplot(HR_data['EducationField'])"
   ]
  },
  {
   "cell_type": "markdown",
   "id": "d88c179b",
   "metadata": {},
   "source": [
    "# Inference\n",
    "Most of the employees education field are Life science and Medical."
   ]
  },
  {
   "cell_type": "markdown",
   "id": "38a39b94",
   "metadata": {},
   "source": [
    "# Gender"
   ]
  },
  {
   "cell_type": "code",
   "execution_count": null,
   "id": "23207022",
   "metadata": {},
   "outputs": [],
   "source": [
    "plt.figure(figsize=[5,5])\n",
    "plt.xticks(rotation='vertical')\n",
    "sns.countplot(HR_data['Gender'])"
   ]
  },
  {
   "cell_type": "markdown",
   "id": "527aefa9",
   "metadata": {},
   "source": [
    "# Inference\n",
    "Majority of the employees working in IBM are males."
   ]
  },
  {
   "cell_type": "markdown",
   "id": "26560ac4",
   "metadata": {},
   "source": [
    "# Job role"
   ]
  },
  {
   "cell_type": "code",
   "execution_count": null,
   "id": "b3a75753",
   "metadata": {},
   "outputs": [],
   "source": [
    "plt.figure(figsize=[5,5])\n",
    "plt.xticks(rotation='vertical')\n",
    "sns.countplot(HR_data['JobRole'])"
   ]
  },
  {
   "cell_type": "markdown",
   "id": "abd33c6f",
   "metadata": {},
   "source": [
    "# Inference\n",
    "Major job roles of the employees are Sales executive,Research scientist and Laboratory technician."
   ]
  },
  {
   "cell_type": "markdown",
   "id": "1966f18e",
   "metadata": {},
   "source": [
    "# Marital status"
   ]
  },
  {
   "cell_type": "code",
   "execution_count": null,
   "id": "9e8a0ed1",
   "metadata": {},
   "outputs": [],
   "source": [
    "plt.figure(figsize=[5,5])\n",
    "plt.xticks(rotation='vertical')\n",
    "sns.countplot(HR_data['MaritalStatus'])"
   ]
  },
  {
   "cell_type": "markdown",
   "id": "fd85b005",
   "metadata": {},
   "source": [
    "# Inference\n",
    "Most of the employees are married."
   ]
  },
  {
   "cell_type": "markdown",
   "id": "78f5c53e",
   "metadata": {},
   "source": [
    "# Over 18"
   ]
  },
  {
   "cell_type": "code",
   "execution_count": null,
   "id": "def7ac10",
   "metadata": {},
   "outputs": [],
   "source": [
    "plt.figure(figsize=[5,5])\n",
    "plt.xticks(rotation='vertical')\n",
    "sns.countplot(HR_data['Over18'])"
   ]
  },
  {
   "cell_type": "markdown",
   "id": "8ef0976c",
   "metadata": {},
   "source": [
    "# Inference \n",
    "All the employees working in the company are above the age of 18."
   ]
  },
  {
   "cell_type": "markdown",
   "id": "697c7cfd",
   "metadata": {},
   "source": [
    "# Over time"
   ]
  },
  {
   "cell_type": "code",
   "execution_count": null,
   "id": "a7fdbb0b",
   "metadata": {},
   "outputs": [],
   "source": [
    "plt.figure(figsize=[5,5])\n",
    "plt.xticks(rotation='vertical')\n",
    "sns.countplot(HR_data['OverTime'])"
   ]
  },
  {
   "cell_type": "markdown",
   "id": "772092ac",
   "metadata": {},
   "source": [
    "# Inference\n",
    "Only around 29% of the employees are working over time."
   ]
  },
  {
   "cell_type": "markdown",
   "id": "c5fed858",
   "metadata": {},
   "source": [
    "# Employee source"
   ]
  },
  {
   "cell_type": "code",
   "execution_count": null,
   "id": "ea6b4eda",
   "metadata": {},
   "outputs": [],
   "source": [
    "plt.figure(figsize=[5,5])\n",
    "plt.xticks(rotation='vertical')\n",
    "sns.countplot(HR_data['Employee Source'])"
   ]
  },
  {
   "cell_type": "markdown",
   "id": "437ef145",
   "metadata": {},
   "source": [
    "# Inference\n",
    "The major source of employees are from company website."
   ]
  },
  {
   "cell_type": "markdown",
   "id": "9d41faf5",
   "metadata": {},
   "source": [
    "# Cor-relation between features"
   ]
  },
  {
   "cell_type": "code",
   "execution_count": null,
   "id": "af5575d3",
   "metadata": {},
   "outputs": [],
   "source": [
    "f, ax = plt.subplots(figsize=(20, 20))\n",
    "corr = HR_data.corr()\n",
    "sns.heatmap(corr, mask=np.zeros_like(corr, dtype=np.bool), cmap=sns.diverging_palette(220, 10, as_cmap=True),\n",
    "            square=True, ax=ax, annot = True)"
   ]
  },
  {
   "cell_type": "code",
   "execution_count": null,
   "id": "cf1ea441",
   "metadata": {},
   "outputs": [],
   "source": [
    "#cor-relation in percentage values\n",
    "corr=HR_data.corr()\n",
    "import  seaborn as sns \n",
    "plt.figure(figsize=[20,15])\n",
    "sns.heatmap(corr,annot=True,cmap='YlGnBu',fmt='.0%')"
   ]
  },
  {
   "cell_type": "markdown",
   "id": "7ec5d204",
   "metadata": {},
   "source": [
    "# Inference\n",
    "From the correlation table we see that monthly income is highly correlated with job level as expected as senior employees will definately earn more. However, daily rate, hourly rate and monthly rate are barely correlated with anything. We will be using monthly income in later analysis as a measurement of salary and get rid of other income related variables.Employee count and Standard hours also does not have any effect.\n",
    "\n",
    "SOME OTHER INFERENCES FROM THE ABOVE HEATMAP:\n",
    "1)Job level and total working years are highly correlated which is expected as senior employees must have worked for a larger span of time\n",
    "2)Monthly Income and total working years are highly correlated which is expected as the employee with more work experince will earn more salary.\n",
    "3)Years in current role and years at company are highly correlated.\n",
    "4)Years with current manager and years at company are highly correlated.\n",
    "5)Self relation ie of a feature to itself is equal to 1 as expected."
   ]
  },
  {
   "cell_type": "markdown",
   "id": "6e3d30e1",
   "metadata": {},
   "source": [
    "# Bivariate Visulaization"
   ]
  },
  {
   "cell_type": "markdown",
   "id": "585b9736",
   "metadata": {},
   "source": [
    "# Plotting the Features against the 'Target' variable."
   ]
  },
  {
   "cell_type": "markdown",
   "id": "9388aac1",
   "metadata": {},
   "source": [
    "# Age vs Attririon"
   ]
  },
  {
   "cell_type": "code",
   "execution_count": null,
   "id": "833999d1",
   "metadata": {},
   "outputs": [],
   "source": [
    "sns.factorplot(data=HR_data,y='Age',x='Attrition',aspect=1,kind='bar')"
   ]
  },
  {
   "cell_type": "markdown",
   "id": "b513778f",
   "metadata": {},
   "source": [
    "# Inference\n",
    "This graph shows that younger age group are leaving the company(ie below 35) and that the people with higher age have lesser tendency to leave the company which makes sense as they may have settled in the organisation."
   ]
  },
  {
   "cell_type": "markdown",
   "id": "5da7f2df",
   "metadata": {},
   "source": [
    "# Bussines travel vs Attrition"
   ]
  },
  {
   "cell_type": "code",
   "execution_count": null,
   "id": "86d45ff2",
   "metadata": {},
   "outputs": [],
   "source": [
    "sns.factorplot(data=HR_data,kind='count',x='Attrition',col='BusinessTravel')"
   ]
  },
  {
   "cell_type": "code",
   "execution_count": null,
   "id": "bb02a879",
   "metadata": {},
   "outputs": [],
   "source": [
    "pd.crosstab(columns=[HR_data.Attrition],index=[HR_data.BusinessTravel],margins=True,normalize='index')"
   ]
  },
  {
   "cell_type": "markdown",
   "id": "dcdd1dfc",
   "metadata": {},
   "source": [
    "# Inference\n",
    "The employees who travel frequently have higher percentage(24%) of leaving the company. "
   ]
  },
  {
   "cell_type": "markdown",
   "id": "4ed9f4db",
   "metadata": {},
   "source": [
    "# Department vs Attrition"
   ]
  },
  {
   "cell_type": "code",
   "execution_count": null,
   "id": "2f2dd570",
   "metadata": {},
   "outputs": [],
   "source": [
    "sns.factorplot(data=HR_data,kind='count',x='Attrition',col='Department')"
   ]
  },
  {
   "cell_type": "code",
   "execution_count": null,
   "id": "d59efd06",
   "metadata": {},
   "outputs": [],
   "source": [
    "pd.crosstab(columns=[HR_data.Attrition],index=[HR_data.Department],margins=True,normalize='index')"
   ]
  },
  {
   "cell_type": "markdown",
   "id": "2615d364",
   "metadata": {},
   "source": [
    "# Inference\n",
    "The higest percentage of voluntary resignation happens in sales department(20%).They may be leaving the company due to reasons like greater workfoce,lower salary,etc.\n",
    "The currently working employee percent is higher in research & development department(86%)."
   ]
  },
  {
   "cell_type": "markdown",
   "id": "77f1c239",
   "metadata": {},
   "source": [
    "# Distance from home vs Attrition"
   ]
  },
  {
   "cell_type": "code",
   "execution_count": null,
   "id": "61b2b6f9",
   "metadata": {},
   "outputs": [],
   "source": [
    "plt.figure(figsize=[10,10])\n",
    "sns.countplot(x='DistanceFromHome',hue='Attrition',data=HR_data)\n",
    "plt.show()"
   ]
  },
  {
   "cell_type": "code",
   "execution_count": null,
   "id": "2a9ecea6",
   "metadata": {},
   "outputs": [],
   "source": [
    "pd.crosstab(columns=[HR_data.Attrition],index=[HR_data.DistanceFromHome],margins=True,normalize='index')"
   ]
  },
  {
   "cell_type": "markdown",
   "id": "7e28eb2a",
   "metadata": {},
   "source": [
    "# Inference\n",
    "The employees with greater distance are leaving company."
   ]
  },
  {
   "cell_type": "markdown",
   "id": "ddb03f2f",
   "metadata": {},
   "source": [
    "# Education vs Attrition"
   ]
  },
  {
   "cell_type": "code",
   "execution_count": null,
   "id": "15407b4f",
   "metadata": {},
   "outputs": [],
   "source": [
    "sns.factorplot(data=HR_data,kind='count',x='Attrition',col='Education')"
   ]
  },
  {
   "cell_type": "code",
   "execution_count": null,
   "id": "826f16b8",
   "metadata": {},
   "outputs": [],
   "source": [
    "pd.crosstab(columns=[HR_data.Attrition],index=[HR_data.Education],margins=True,normalize='index')"
   ]
  },
  {
   "cell_type": "markdown",
   "id": "938d13c2",
   "metadata": {},
   "source": [
    "# Inference\n",
    "From this graph we can observe that the employees with education level 1 have the higher percentage(18%) of voluntary resignation(ie they are leaving the company)"
   ]
  },
  {
   "cell_type": "markdown",
   "id": "21a381b5",
   "metadata": {},
   "source": [
    "# Education field vs Attrition"
   ]
  },
  {
   "cell_type": "code",
   "execution_count": null,
   "id": "41b79c13",
   "metadata": {},
   "outputs": [],
   "source": [
    "sns.factorplot(data=HR_data,kind='count',x='Attrition',col='EducationField')"
   ]
  },
  {
   "cell_type": "code",
   "execution_count": null,
   "id": "8fef0d3f",
   "metadata": {},
   "outputs": [],
   "source": [
    "pd.crosstab(columns=[HR_data.Attrition],index=[HR_data.EducationField],margins=True,normalize='index')"
   ]
  },
  {
   "cell_type": "markdown",
   "id": "b699fe0c",
   "metadata": {},
   "source": [
    "# Inference\n",
    "The employees having technical degree have higher ratio(22%) of voluntary resignation.The employee with life science as the education field have lesser chance of leaving the company."
   ]
  },
  {
   "cell_type": "markdown",
   "id": "9bbcd003",
   "metadata": {},
   "source": [
    "# Environment satisfaction vs Attrition"
   ]
  },
  {
   "cell_type": "code",
   "execution_count": null,
   "id": "d0e5c61a",
   "metadata": {},
   "outputs": [],
   "source": [
    "sns.factorplot(data=HR_data,kind='count',x='Attrition',col='EnvironmentSatisfaction')"
   ]
  },
  {
   "cell_type": "code",
   "execution_count": null,
   "id": "b3ba5aa2",
   "metadata": {},
   "outputs": [],
   "source": [
    "pd.crosstab(columns=[HR_data.Attrition],index=[HR_data.EnvironmentSatisfaction],margins=True,normalize='index')"
   ]
  },
  {
   "cell_type": "markdown",
   "id": "692bb77e",
   "metadata": {},
   "source": [
    "# Inference\n",
    "Again we can notice that the relatively high percent of 'current employee' in employees with higher grade of environment satisfacftion.This means that they are satisfied with their working environment."
   ]
  },
  {
   "cell_type": "markdown",
   "id": "27bfee95",
   "metadata": {},
   "source": [
    "# Gender vs Attrition"
   ]
  },
  {
   "cell_type": "code",
   "execution_count": null,
   "id": "09ee74be",
   "metadata": {},
   "outputs": [],
   "source": [
    "sns.factorplot(data=HR_data,kind='count',x='Attrition',col='Gender')"
   ]
  },
  {
   "cell_type": "code",
   "execution_count": null,
   "id": "708b7d55",
   "metadata": {},
   "outputs": [],
   "source": [
    "pd.crosstab(columns=[HR_data.Attrition],index=[HR_data.Gender],margins=True,normalize='index')"
   ]
  },
  {
   "cell_type": "markdown",
   "id": "97805c87",
   "metadata": {},
   "source": [
    "# Inference\n",
    "About 85 % of females want to stay in the company while only 15 % want to leave. All in all 84 % of employees want to be in the company with only being 16% wanting to leave the company."
   ]
  },
  {
   "cell_type": "markdown",
   "id": "70976bdc",
   "metadata": {},
   "source": [
    "# Job involvement vs Attrition"
   ]
  },
  {
   "cell_type": "code",
   "execution_count": null,
   "id": "8e725abe",
   "metadata": {},
   "outputs": [],
   "source": [
    "sns.factorplot(data=HR_data,kind='count',x='Attrition',col='JobInvolvement')"
   ]
  },
  {
   "cell_type": "code",
   "execution_count": null,
   "id": "6de8483a",
   "metadata": {},
   "outputs": [],
   "source": [
    "pd.crosstab(columns=[HR_data.Attrition],index=[HR_data.JobInvolvement],margins=True,normalize='index')"
   ]
  },
  {
   "cell_type": "markdown",
   "id": "0ac0e79c",
   "metadata": {},
   "source": [
    "# Inference\n",
    "Again we can notice that the relatively high percent of 'current employee' in employees with higher grade of job involvement.This means that they are doing  their maximum."
   ]
  },
  {
   "cell_type": "markdown",
   "id": "7cb0f15b",
   "metadata": {},
   "source": [
    "# Job level vs Attrition"
   ]
  },
  {
   "cell_type": "code",
   "execution_count": null,
   "id": "566d5882",
   "metadata": {},
   "outputs": [],
   "source": [
    "sns.factorplot(data=HR_data,kind='count',x='Attrition',col='JobLevel')"
   ]
  },
  {
   "cell_type": "code",
   "execution_count": null,
   "id": "23faa23a",
   "metadata": {},
   "outputs": [],
   "source": [
    "pd.crosstab(columns=[HR_data.Attrition],index=[HR_data.JobLevel],margins=True,normalize='index')"
   ]
  },
  {
   "cell_type": "markdown",
   "id": "279d6a90",
   "metadata": {},
   "source": [
    "# Inference\n",
    "There is a higher rate of voluntary resignation in employees having job level 1(20%)."
   ]
  },
  {
   "cell_type": "markdown",
   "id": "5d2824e1",
   "metadata": {},
   "source": [
    "# Job role vs Attrition"
   ]
  },
  {
   "cell_type": "code",
   "execution_count": null,
   "id": "3c4f7a47",
   "metadata": {},
   "outputs": [],
   "source": [
    "sns.factorplot(data=HR_data,kind='count',x='Attrition',col='JobRole')"
   ]
  },
  {
   "cell_type": "code",
   "execution_count": null,
   "id": "2a872b7f",
   "metadata": {},
   "outputs": [],
   "source": [
    "pd.crosstab(columns=[HR_data.Attrition],index=[HR_data.JobRole],margins=True,normalize='index')"
   ]
  },
  {
   "cell_type": "markdown",
   "id": "67fb2d25",
   "metadata": {},
   "source": [
    "# Inference\n",
    "The lower ratio of voluntary resignation happens in manager role.The higher is in sales representatives,this may due to workforce,low salary,etc."
   ]
  },
  {
   "cell_type": "markdown",
   "id": "274e6657",
   "metadata": {},
   "source": [
    "# Job satisfaction vs Attrition"
   ]
  },
  {
   "cell_type": "code",
   "execution_count": null,
   "id": "b3b4c308",
   "metadata": {},
   "outputs": [],
   "source": [
    "sns.factorplot(data=HR_data,kind='count',x='Attrition',col='JobSatisfaction')"
   ]
  },
  {
   "cell_type": "code",
   "execution_count": null,
   "id": "b69f1cd5",
   "metadata": {},
   "outputs": [],
   "source": [
    "pd.crosstab(columns=[HR_data.Attrition],index=[HR_data.JobSatisfaction],margins=True,normalize='index')"
   ]
  },
  {
   "cell_type": "markdown",
   "id": "891c68f0",
   "metadata": {},
   "source": [
    "# Inference\n",
    " Note that for higher values of job satisfaction( ie more a person is satisfied with his job) lesser percent of voluntary resignation which is quite obvious as highly contented workers will obvioulsy not like to leave the company."
   ]
  },
  {
   "cell_type": "markdown",
   "id": "507d5139",
   "metadata": {},
   "source": [
    "# Marital status vs Attrition"
   ]
  },
  {
   "cell_type": "code",
   "execution_count": null,
   "id": "49920c4c",
   "metadata": {},
   "outputs": [],
   "source": [
    "sns.factorplot(data=HR_data,kind='count',x='Attrition',col='MaritalStatus')"
   ]
  },
  {
   "cell_type": "code",
   "execution_count": null,
   "id": "64e943ec",
   "metadata": {},
   "outputs": [],
   "source": [
    "pd.crosstab(columns=[HR_data.Attrition],index=[HR_data.MaritalStatus],margins=True,normalize='index')"
   ]
  },
  {
   "cell_type": "markdown",
   "id": "c5b436a3",
   "metadata": {},
   "source": [
    "# Inference\n",
    "Single peopel are more likely to quit compared to married and divorced people."
   ]
  },
  {
   "cell_type": "markdown",
   "id": "535f50bc",
   "metadata": {},
   "source": [
    "# Over time vs Attrition"
   ]
  },
  {
   "cell_type": "code",
   "execution_count": null,
   "id": "10b9ba76",
   "metadata": {},
   "outputs": [],
   "source": [
    "sns.factorplot(data=HR_data,kind='count',x='Attrition',col='OverTime')"
   ]
  },
  {
   "cell_type": "code",
   "execution_count": null,
   "id": "4e352852",
   "metadata": {},
   "outputs": [],
   "source": [
    "pd.crosstab(columns=[HR_data.Attrition],index=[HR_data.OverTime],margins=True,normalize='index')"
   ]
  },
  {
   "cell_type": "markdown",
   "id": "f2f28737",
   "metadata": {},
   "source": [
    "# Inference\n",
    "The over time working employees are more likely to quit."
   ]
  },
  {
   "cell_type": "markdown",
   "id": "9774c606",
   "metadata": {},
   "source": [
    "# Performance rating vs Attrition"
   ]
  },
  {
   "cell_type": "code",
   "execution_count": null,
   "id": "1e3cdcfd",
   "metadata": {},
   "outputs": [],
   "source": [
    "sns.factorplot(data=HR_data,kind='count',x='Attrition',col='PerformanceRating')"
   ]
  },
  {
   "cell_type": "code",
   "execution_count": null,
   "id": "1f3fffda",
   "metadata": {},
   "outputs": [],
   "source": [
    "pd.crosstab(columns=[HR_data.Attrition],index=[HR_data.PerformanceRating],margins=True,normalize='index')"
   ]
  },
  {
   "cell_type": "markdown",
   "id": "d1957719",
   "metadata": {},
   "source": [
    "# Inference\n",
    "Attrition ratio for both performance level is equal ."
   ]
  },
  {
   "cell_type": "markdown",
   "id": "c23ffd03",
   "metadata": {},
   "source": [
    "# Relationship satisfaction vs Attrition"
   ]
  },
  {
   "cell_type": "code",
   "execution_count": null,
   "id": "66c86135",
   "metadata": {},
   "outputs": [],
   "source": [
    "sns.factorplot(data=HR_data,kind='count',x='Attrition',col='RelationshipSatisfaction')"
   ]
  },
  {
   "cell_type": "code",
   "execution_count": null,
   "id": "9274eba2",
   "metadata": {},
   "outputs": [],
   "source": [
    "pd.crosstab(columns=[HR_data.Attrition],index=[HR_data.RelationshipSatisfaction],margins=True,normalize='index')"
   ]
  },
  {
   "cell_type": "markdown",
   "id": "0e4f7b6e",
   "metadata": {},
   "source": [
    "# Inference\n",
    "The lower ratio of voluntary resignation is with level 2."
   ]
  },
  {
   "cell_type": "markdown",
   "id": "81502fce",
   "metadata": {},
   "source": [
    "# Stock option level vs Attrition"
   ]
  },
  {
   "cell_type": "code",
   "execution_count": null,
   "id": "8e6967b2",
   "metadata": {},
   "outputs": [],
   "source": [
    "sns.factorplot(data=HR_data,kind='count',x='Attrition',col='StockOptionLevel')"
   ]
  },
  {
   "cell_type": "code",
   "execution_count": null,
   "id": "b3ff7d26",
   "metadata": {},
   "outputs": [],
   "source": [
    "pd.crosstab(columns=[HR_data.Attrition],index=[HR_data.StockOptionLevel],margins=True,normalize='index')"
   ]
  },
  {
   "cell_type": "markdown",
   "id": "df5aaac9",
   "metadata": {},
   "source": [
    "# Inference\n",
    "The level 0 has higher ratio of voluntary resignation."
   ]
  },
  {
   "cell_type": "markdown",
   "id": "1621321d",
   "metadata": {},
   "source": [
    "# Training times last year vs Attrition"
   ]
  },
  {
   "cell_type": "code",
   "execution_count": null,
   "id": "4c929f2e",
   "metadata": {},
   "outputs": [],
   "source": [
    "sns.factorplot(data=HR_data,kind='count',x='Attrition',col='TrainingTimesLastYear')"
   ]
  },
  {
   "cell_type": "code",
   "execution_count": null,
   "id": "f50aa7a1",
   "metadata": {},
   "outputs": [],
   "source": [
    "pd.crosstab(columns=[HR_data.Attrition],index=[HR_data.TrainingTimesLastYear],margins=True,normalize='index')"
   ]
  },
  {
   "cell_type": "markdown",
   "id": "e21aa0af",
   "metadata": {},
   "source": [
    "# Inference\n",
    "The employees who does not get any training during last year are most likely to resing."
   ]
  },
  {
   "cell_type": "markdown",
   "id": "f56a3d42",
   "metadata": {},
   "source": [
    "# Work life balance vs Attrition"
   ]
  },
  {
   "cell_type": "code",
   "execution_count": null,
   "id": "89496999",
   "metadata": {},
   "outputs": [],
   "source": [
    "sns.factorplot(data=HR_data,kind='count',x='Attrition',col='WorkLifeBalance')"
   ]
  },
  {
   "cell_type": "code",
   "execution_count": null,
   "id": "f89b3216",
   "metadata": {},
   "outputs": [],
   "source": [
    "pd.crosstab(columns=[HR_data.Attrition],index=[HR_data.WorkLifeBalance],margins=True,normalize='index')"
   ]
  },
  {
   "cell_type": "markdown",
   "id": "2e079fbe",
   "metadata": {},
   "source": [
    "# Inference\n",
    "The lower rating employees are likely to quit the company.They have bad level of work-life balance."
   ]
  },
  {
   "cell_type": "markdown",
   "id": "35478f8a",
   "metadata": {},
   "source": [
    "# Employee Source vs Attrition"
   ]
  },
  {
   "cell_type": "code",
   "execution_count": null,
   "id": "7b409119",
   "metadata": {},
   "outputs": [],
   "source": [
    "sns.factorplot(data=HR_data,kind='count',x='Attrition',col='Employee Source')"
   ]
  },
  {
   "cell_type": "markdown",
   "id": "347992f1",
   "metadata": {},
   "source": [
    "# Inference\n",
    "The higest ratio of voluntary resignation is by employees who have  entered by referal(20%)."
   ]
  },
  {
   "cell_type": "markdown",
   "id": "125038e7",
   "metadata": {},
   "source": [
    "# Age vs Joblevel"
   ]
  },
  {
   "cell_type": "code",
   "execution_count": null,
   "id": "24fd15f2",
   "metadata": {},
   "outputs": [],
   "source": [
    "sns.factorplot(x = 'Age', y='JobLevel', kind = 'bar', data=HR_data, aspect = 3)"
   ]
  },
  {
   "cell_type": "code",
   "execution_count": null,
   "id": "5b0626f5",
   "metadata": {},
   "outputs": [],
   "source": [
    "pd.crosstab(columns=[HR_data.JobLevel],index=[HR_data.Age],margins=True,normalize='index')"
   ]
  },
  {
   "cell_type": "markdown",
   "id": "02c7b4a2",
   "metadata": {},
   "source": [
    "# Inference\n",
    "Younger age group employees (ie between 18 to 28)are in job level 1."
   ]
  },
  {
   "cell_type": "code",
   "execution_count": null,
   "id": "7aa79859",
   "metadata": {},
   "outputs": [],
   "source": [
    "sns.scatterplot(data=HR_data,x='JobLevel',y='MonthlyIncome')\n",
    "plt.title(\"Job level vs Monthly income\")  "
   ]
  },
  {
   "cell_type": "markdown",
   "id": "e48afff1",
   "metadata": {},
   "source": [
    "#Plotting Age vs monthly income\n",
    "plt.figure(figsize = (12,4))\n",
    "sns.regplot(x= 'Age', y = 'MonthlyIncome' , data =HR_data,color='lightseagreen')\n",
    "plt.show()"
   ]
  },
  {
   "cell_type": "code",
   "execution_count": null,
   "id": "edc4f0b2",
   "metadata": {},
   "outputs": [],
   "source": [
    "plt.figure(figsize = (10,5))\n",
    "sns.regplot(x= 'PerformanceRating', y = 'PercentSalaryHike' , data = HR_data)\n",
    "plt.show()"
   ]
  },
  {
   "cell_type": "code",
   "execution_count": null,
   "id": "3bc1adb3",
   "metadata": {},
   "outputs": [],
   "source": [
    "HR_data.groupby(['PerformanceRating'])['PercentSalaryHike'].mean().to_frame()"
   ]
  },
  {
   "cell_type": "markdown",
   "id": "c2901c0c",
   "metadata": {},
   "source": [
    "# Inference\n",
    "There is a linear relationship between performance rating and percentage salary hike.\n",
    "The employees with performance rating 4 has 18% salary hike."
   ]
  },
  {
   "cell_type": "code",
   "execution_count": null,
   "id": "1eaa7655",
   "metadata": {},
   "outputs": [],
   "source": [
    "plt.figure(figsize = (10,5))\n",
    "sns.regplot(x= 'Age',y = 'Education',data = HR_data)\n",
    "plt.show()"
   ]
  },
  {
   "cell_type": "code",
   "execution_count": null,
   "id": "903a9e88",
   "metadata": {},
   "outputs": [],
   "source": [
    "HR_data.groupby(['Education'])['Age'].mean().to_frame()"
   ]
  },
  {
   "cell_type": "markdown",
   "id": "399dd00f",
   "metadata": {},
   "source": [
    "# Multivariate Visualization"
   ]
  },
  {
   "cell_type": "markdown",
   "id": "bd179f7d",
   "metadata": {},
   "source": [
    "# Gender & Monthly income vs Attrition"
   ]
  },
  {
   "cell_type": "code",
   "execution_count": null,
   "id": "574117d5",
   "metadata": {},
   "outputs": [],
   "source": [
    "plt.figure(figsize=(10,5))\n",
    "sns.boxplot(x=\"Gender\", y=\"MonthlyIncome\", data=HR_data,hue='Attrition',palette='GnBu')"
   ]
  },
  {
   "cell_type": "code",
   "execution_count": null,
   "id": "74824615",
   "metadata": {},
   "outputs": [],
   "source": [
    "HR_data.groupby(['Gender','Attrition'])['MonthlyIncome'].median().to_frame()"
   ]
  },
  {
   "cell_type": "code",
   "execution_count": null,
   "id": "dc9e4392",
   "metadata": {},
   "outputs": [],
   "source": [
    "HR_data.groupby(['Gender','Attrition'])['MonthlyIncome'].mean().to_frame()"
   ]
  },
  {
   "cell_type": "markdown",
   "id": "0a02023d",
   "metadata": {},
   "source": [
    "# Inference\n",
    "Monthly income rate of male and female for attrition is almost same ."
   ]
  },
  {
   "cell_type": "markdown",
   "id": "edee0d4e",
   "metadata": {},
   "source": [
    "# Gender & Age vs Attrition"
   ]
  },
  {
   "cell_type": "code",
   "execution_count": null,
   "id": "5be3e717",
   "metadata": {},
   "outputs": [],
   "source": [
    "plt.figure(figsize=(10,5))\n",
    "sns.boxplot(x=\"Gender\", y=\"Age\", data=HR_data,hue='Attrition',palette='GnBu')"
   ]
  },
  {
   "cell_type": "code",
   "execution_count": null,
   "id": "c8699a82",
   "metadata": {},
   "outputs": [],
   "source": [
    "HR_data.groupby(['Gender','Attrition'])['Age'].mean().to_frame()"
   ]
  },
  {
   "cell_type": "code",
   "execution_count": null,
   "id": "af37860c",
   "metadata": {},
   "outputs": [],
   "source": [
    "HR_data.groupby(['Gender','Attrition'])['Age'].median().to_frame()"
   ]
  },
  {
   "cell_type": "markdown",
   "id": "769a3043",
   "metadata": {},
   "source": [
    "# Inference\n",
    "The attrition age for both the genders are equal."
   ]
  },
  {
   "cell_type": "markdown",
   "id": "47c6a6de",
   "metadata": {},
   "source": [
    "From these we can conclude that gender does not have much effect in employee attrition."
   ]
  },
  {
   "cell_type": "markdown",
   "id": "a5ea9377",
   "metadata": {},
   "source": [
    "# Department & Distance from home vs Attrition"
   ]
  },
  {
   "cell_type": "code",
   "execution_count": null,
   "id": "d0645da0",
   "metadata": {},
   "outputs": [],
   "source": [
    "plt.figure(figsize=(10,5))\n",
    "sns.barplot( x=\"Department\", y='DistanceFromHome',data=HR_data,hue='Attrition',palette='GnBu')"
   ]
  },
  {
   "cell_type": "code",
   "execution_count": null,
   "id": "7e1b9cfc",
   "metadata": {},
   "outputs": [],
   "source": [
    "HR_data.groupby(['Department','Attrition'])['DistanceFromHome'].mean().to_frame()"
   ]
  },
  {
   "cell_type": "code",
   "execution_count": null,
   "id": "405aaeab",
   "metadata": {},
   "outputs": [],
   "source": [
    "HR_data.groupby(['Department','Attrition'])['DistanceFromHome'].median().to_frame()"
   ]
  },
  {
   "cell_type": "markdown",
   "id": "569074ff",
   "metadata": {},
   "source": [
    "# Inference\n",
    "The employees whoes distance from home is large is leaving the company."
   ]
  },
  {
   "cell_type": "markdown",
   "id": "f4dd920e",
   "metadata": {},
   "source": [
    "# Age & Monthly income vs Attrition"
   ]
  },
  {
   "cell_type": "code",
   "execution_count": null,
   "id": "6f560806",
   "metadata": {},
   "outputs": [],
   "source": [
    "plt.figure(figsize = (16,6))\n",
    "sns.jointplot(x='Age',y='MonthlyIncome',data=HR_data,hue='Attrition')\n",
    "plt.show()"
   ]
  },
  {
   "cell_type": "code",
   "execution_count": null,
   "id": "1160ba17",
   "metadata": {},
   "outputs": [],
   "source": [
    "HR_data.groupby(['Attrition'])['Age'].mean().to_frame()"
   ]
  },
  {
   "cell_type": "code",
   "execution_count": null,
   "id": "591a9dab",
   "metadata": {},
   "outputs": [],
   "source": [
    "HR_data.groupby(['Attrition'])['MonthlyIncome'].mean().to_frame()"
   ]
  },
  {
   "cell_type": "markdown",
   "id": "8f441bc3",
   "metadata": {},
   "source": [
    "# Inference\n",
    "Younger age employees with lower salary is leaving the company."
   ]
  },
  {
   "cell_type": "code",
   "execution_count": null,
   "id": "82e0edfa",
   "metadata": {},
   "outputs": [],
   "source": [
    "plt.figure(figsize=(10,5))\n",
    "sns.boxplot(x='BusinessTravel',y='MonthlyIncome',data=HR_data,hue='Attrition',palette='GnBu')"
   ]
  },
  {
   "cell_type": "code",
   "execution_count": null,
   "id": "c157b8ac",
   "metadata": {},
   "outputs": [],
   "source": [
    "HR_data.groupby(['BusinessTravel','Attrition'])['MonthlyIncome'].mean().to_frame()"
   ]
  },
  {
   "cell_type": "code",
   "execution_count": null,
   "id": "73f9df01",
   "metadata": {},
   "outputs": [],
   "source": [
    "HR_data.groupby(['BusinessTravel','Attrition'])['MonthlyIncome'].median().to_frame()"
   ]
  },
  {
   "cell_type": "code",
   "execution_count": null,
   "id": "559a3156",
   "metadata": {},
   "outputs": [],
   "source": [
    "plt.subplots(figsize=(10,5))\n",
    "sns.boxplot(x='JobSatisfaction',y='MonthlyIncome',data=HR_data,hue='Attrition',palette='GnBu')\n",
    "plt.show()"
   ]
  },
  {
   "cell_type": "code",
   "execution_count": null,
   "id": "cbaed8b2",
   "metadata": {},
   "outputs": [],
   "source": [
    "HR_data.groupby(['JobSatisfaction','Attrition'])['MonthlyIncome'].mean().to_frame()"
   ]
  },
  {
   "cell_type": "code",
   "execution_count": null,
   "id": "870ab332",
   "metadata": {},
   "outputs": [],
   "source": [
    "plt.subplots(figsize=(10,5))\n",
    "\n",
    "sns.swarmplot(x='MaritalStatus',\n",
    "             y='Age',\n",
    "             data=HR_data,\n",
    "             hue='Attrition',\n",
    "             size=8)\n",
    "plt.show()"
   ]
  },
  {
   "cell_type": "code",
   "execution_count": null,
   "id": "023084cb",
   "metadata": {},
   "outputs": [],
   "source": [
    "HR_data.groupby(['MaritalStatus','Attrition'])['Age'].mean().to_frame()"
   ]
  },
  {
   "cell_type": "code",
   "execution_count": null,
   "id": "16caa694",
   "metadata": {},
   "outputs": [],
   "source": [
    "plt.subplots(figsize=(10,5))\n",
    "sns.swarmplot(x='MaritalStatus',\n",
    "             y='MonthlyIncome',\n",
    "             data=HR_data,\n",
    "             hue='Attrition',\n",
    "             size=8)\n",
    "plt.show()"
   ]
  },
  {
   "cell_type": "code",
   "execution_count": null,
   "id": "527b8dc2",
   "metadata": {},
   "outputs": [],
   "source": [
    "HR_data.groupby(['MaritalStatus','Attrition'])['MonthlyIncome'].mean().to_frame()"
   ]
  },
  {
   "cell_type": "code",
   "execution_count": null,
   "id": "189396ba",
   "metadata": {},
   "outputs": [],
   "source": [
    "plt.figure(figsize=(10,5))\n",
    "sns.swarmplot( x=\"JobLevel\", y='YearsAtCompany',data=HR_data,hue='Attrition',size=7)"
   ]
  },
  {
   "cell_type": "code",
   "execution_count": null,
   "id": "6fc47ae7",
   "metadata": {},
   "outputs": [],
   "source": [
    "HR_data.groupby(['JobLevel','Attrition'])['YearsAtCompany'].median().to_frame()"
   ]
  },
  {
   "cell_type": "code",
   "execution_count": null,
   "id": "37f32d9d",
   "metadata": {},
   "outputs": [],
   "source": [
    "plt.figure(figsize=(10,5))\n",
    "sns.violinplot( x=\"EducationField\", y='PerformanceRating',data=HR_data,hue='Attrition',palette='GnBu')"
   ]
  },
  {
   "cell_type": "code",
   "execution_count": null,
   "id": "a8a555ae",
   "metadata": {},
   "outputs": [],
   "source": [
    "HR_data.groupby(['EducationField','Attrition'])['PerformanceRating'].mean().to_frame()"
   ]
  },
  {
   "cell_type": "code",
   "execution_count": null,
   "id": "f4524a22",
   "metadata": {},
   "outputs": [],
   "source": [
    "plt.figure(figsize=(10,5))\n",
    "sns.swarmplot( x=\"Education\", y='PerformanceRating',data=HR_data,hue='Attrition')"
   ]
  },
  {
   "cell_type": "code",
   "execution_count": null,
   "id": "cbdcd357",
   "metadata": {},
   "outputs": [],
   "source": [
    "HR_data.groupby(['Education','Attrition'])['PerformanceRating'].mean().to_frame()"
   ]
  },
  {
   "cell_type": "code",
   "execution_count": null,
   "id": "d89f9740",
   "metadata": {},
   "outputs": [],
   "source": [
    "plt.figure(figsize=(15,7))\n",
    "sns.swarmplot( x=\"Department\", y='MonthlyIncome',data=HR_data,hue='Attrition')"
   ]
  },
  {
   "cell_type": "code",
   "execution_count": null,
   "id": "bdecd0d7",
   "metadata": {},
   "outputs": [],
   "source": [
    "HR_data.groupby(['Department','Attrition'])['MonthlyIncome'].mean().to_frame()"
   ]
  },
  {
   "cell_type": "markdown",
   "id": "6f94e45d",
   "metadata": {},
   "source": [
    "# Data preprocessing"
   ]
  },
  {
   "cell_type": "markdown",
   "id": "b6c98e09",
   "metadata": {},
   "source": [
    "# Moving “Attrition” column to last"
   ]
  },
  {
   "cell_type": "code",
   "execution_count": 4,
   "id": "eb8bc582",
   "metadata": {},
   "outputs": [],
   "source": [
    "HR_data[\"attrition\"] = HR_data[\"Attrition\"]\n",
    "HR_data.drop(columns = [\"Attrition\"], inplace = True)"
   ]
  },
  {
   "cell_type": "code",
   "execution_count": 5,
   "id": "59eac6d4",
   "metadata": {},
   "outputs": [
    {
     "data": {
      "text/html": [
       "<div>\n",
       "<style scoped>\n",
       "    .dataframe tbody tr th:only-of-type {\n",
       "        vertical-align: middle;\n",
       "    }\n",
       "\n",
       "    .dataframe tbody tr th {\n",
       "        vertical-align: top;\n",
       "    }\n",
       "\n",
       "    .dataframe thead th {\n",
       "        text-align: right;\n",
       "    }\n",
       "</style>\n",
       "<table border=\"1\" class=\"dataframe\">\n",
       "  <thead>\n",
       "    <tr style=\"text-align: right;\">\n",
       "      <th></th>\n",
       "      <th>Age</th>\n",
       "      <th>BusinessTravel</th>\n",
       "      <th>DailyRate</th>\n",
       "      <th>Department</th>\n",
       "      <th>DistanceFromHome</th>\n",
       "      <th>Education</th>\n",
       "      <th>EducationField</th>\n",
       "      <th>EmployeeCount</th>\n",
       "      <th>EmployeeNumber</th>\n",
       "      <th>Application ID</th>\n",
       "      <th>...</th>\n",
       "      <th>StockOptionLevel</th>\n",
       "      <th>TotalWorkingYears</th>\n",
       "      <th>TrainingTimesLastYear</th>\n",
       "      <th>WorkLifeBalance</th>\n",
       "      <th>YearsAtCompany</th>\n",
       "      <th>YearsInCurrentRole</th>\n",
       "      <th>YearsSinceLastPromotion</th>\n",
       "      <th>YearsWithCurrManager</th>\n",
       "      <th>Employee Source</th>\n",
       "      <th>attrition</th>\n",
       "    </tr>\n",
       "  </thead>\n",
       "  <tbody>\n",
       "    <tr>\n",
       "      <th>0</th>\n",
       "      <td>41.0</td>\n",
       "      <td>Travel_Rarely</td>\n",
       "      <td>1102.0</td>\n",
       "      <td>Sales</td>\n",
       "      <td>1</td>\n",
       "      <td>2.0</td>\n",
       "      <td>Life Sciences</td>\n",
       "      <td>1</td>\n",
       "      <td>1</td>\n",
       "      <td>123456</td>\n",
       "      <td>...</td>\n",
       "      <td>0.0</td>\n",
       "      <td>8.0</td>\n",
       "      <td>0.0</td>\n",
       "      <td>1.0</td>\n",
       "      <td>6.0</td>\n",
       "      <td>4.0</td>\n",
       "      <td>0.0</td>\n",
       "      <td>5.0</td>\n",
       "      <td>Referral</td>\n",
       "      <td>Voluntary Resignation</td>\n",
       "    </tr>\n",
       "    <tr>\n",
       "      <th>1</th>\n",
       "      <td>41.0</td>\n",
       "      <td>Travel_Rarely</td>\n",
       "      <td>1102.0</td>\n",
       "      <td>Sales</td>\n",
       "      <td>1</td>\n",
       "      <td>2.0</td>\n",
       "      <td>Life Sciences</td>\n",
       "      <td>1</td>\n",
       "      <td>1</td>\n",
       "      <td>123458</td>\n",
       "      <td>...</td>\n",
       "      <td>0.0</td>\n",
       "      <td>8.0</td>\n",
       "      <td>0.0</td>\n",
       "      <td>1.0</td>\n",
       "      <td>6.0</td>\n",
       "      <td>4.0</td>\n",
       "      <td>0.0</td>\n",
       "      <td>5.0</td>\n",
       "      <td>Referral</td>\n",
       "      <td>Voluntary Resignation</td>\n",
       "    </tr>\n",
       "    <tr>\n",
       "      <th>2</th>\n",
       "      <td>41.0</td>\n",
       "      <td>Travel_Rarely</td>\n",
       "      <td>1102.0</td>\n",
       "      <td>Sales</td>\n",
       "      <td>1</td>\n",
       "      <td>2.0</td>\n",
       "      <td>Life Sciences</td>\n",
       "      <td>1</td>\n",
       "      <td>7</td>\n",
       "      <td>123462</td>\n",
       "      <td>...</td>\n",
       "      <td>0.0</td>\n",
       "      <td>8.0</td>\n",
       "      <td>0.0</td>\n",
       "      <td>1.0</td>\n",
       "      <td>6.0</td>\n",
       "      <td>4.0</td>\n",
       "      <td>0.0</td>\n",
       "      <td>5.0</td>\n",
       "      <td>Referral</td>\n",
       "      <td>Voluntary Resignation</td>\n",
       "    </tr>\n",
       "    <tr>\n",
       "      <th>3</th>\n",
       "      <td>41.0</td>\n",
       "      <td>Travel_Rarely</td>\n",
       "      <td>1102.0</td>\n",
       "      <td>Sales</td>\n",
       "      <td>1</td>\n",
       "      <td>2.0</td>\n",
       "      <td>Life Sciences</td>\n",
       "      <td>1</td>\n",
       "      <td>8</td>\n",
       "      <td>123463</td>\n",
       "      <td>...</td>\n",
       "      <td>0.0</td>\n",
       "      <td>8.0</td>\n",
       "      <td>0.0</td>\n",
       "      <td>1.0</td>\n",
       "      <td>6.0</td>\n",
       "      <td>4.0</td>\n",
       "      <td>0.0</td>\n",
       "      <td>5.0</td>\n",
       "      <td>Referral</td>\n",
       "      <td>Voluntary Resignation</td>\n",
       "    </tr>\n",
       "    <tr>\n",
       "      <th>4</th>\n",
       "      <td>41.0</td>\n",
       "      <td>Travel_Rarely</td>\n",
       "      <td>1102.0</td>\n",
       "      <td>Sales</td>\n",
       "      <td>1</td>\n",
       "      <td>2.0</td>\n",
       "      <td>Life Sciences</td>\n",
       "      <td>1</td>\n",
       "      <td>9</td>\n",
       "      <td>123464</td>\n",
       "      <td>...</td>\n",
       "      <td>0.0</td>\n",
       "      <td>8.0</td>\n",
       "      <td>0.0</td>\n",
       "      <td>1.0</td>\n",
       "      <td>6.0</td>\n",
       "      <td>4.0</td>\n",
       "      <td>0.0</td>\n",
       "      <td>5.0</td>\n",
       "      <td>Referral</td>\n",
       "      <td>Voluntary Resignation</td>\n",
       "    </tr>\n",
       "  </tbody>\n",
       "</table>\n",
       "<p>5 rows × 37 columns</p>\n",
       "</div>"
      ],
      "text/plain": [
       "    Age BusinessTravel  DailyRate Department DistanceFromHome  Education  \\\n",
       "0  41.0  Travel_Rarely     1102.0      Sales                1        2.0   \n",
       "1  41.0  Travel_Rarely     1102.0      Sales                1        2.0   \n",
       "2  41.0  Travel_Rarely     1102.0      Sales                1        2.0   \n",
       "3  41.0  Travel_Rarely     1102.0      Sales                1        2.0   \n",
       "4  41.0  Travel_Rarely     1102.0      Sales                1        2.0   \n",
       "\n",
       "  EducationField EmployeeCount EmployeeNumber Application ID  ...  \\\n",
       "0  Life Sciences             1              1         123456  ...   \n",
       "1  Life Sciences             1              1         123458  ...   \n",
       "2  Life Sciences             1              7         123462  ...   \n",
       "3  Life Sciences             1              8         123463  ...   \n",
       "4  Life Sciences             1              9         123464  ...   \n",
       "\n",
       "   StockOptionLevel TotalWorkingYears TrainingTimesLastYear  WorkLifeBalance  \\\n",
       "0               0.0               8.0                   0.0              1.0   \n",
       "1               0.0               8.0                   0.0              1.0   \n",
       "2               0.0               8.0                   0.0              1.0   \n",
       "3               0.0               8.0                   0.0              1.0   \n",
       "4               0.0               8.0                   0.0              1.0   \n",
       "\n",
       "   YearsAtCompany YearsInCurrentRole YearsSinceLastPromotion  \\\n",
       "0             6.0                4.0                     0.0   \n",
       "1             6.0                4.0                     0.0   \n",
       "2             6.0                4.0                     0.0   \n",
       "3             6.0                4.0                     0.0   \n",
       "4             6.0                4.0                     0.0   \n",
       "\n",
       "  YearsWithCurrManager Employee Source              attrition  \n",
       "0                  5.0        Referral  Voluntary Resignation  \n",
       "1                  5.0        Referral  Voluntary Resignation  \n",
       "2                  5.0        Referral  Voluntary Resignation  \n",
       "3                  5.0        Referral  Voluntary Resignation  \n",
       "4                  5.0        Referral  Voluntary Resignation  \n",
       "\n",
       "[5 rows x 37 columns]"
      ]
     },
     "execution_count": 5,
     "metadata": {},
     "output_type": "execute_result"
    }
   ],
   "source": [
    "HR_data.head()"
   ]
  },
  {
   "cell_type": "markdown",
   "id": "c4359b00",
   "metadata": {},
   "source": [
    "# Handling null values of the HR_data"
   ]
  },
  {
   "cell_type": "code",
   "execution_count": 6,
   "id": "b817590b",
   "metadata": {},
   "outputs": [
    {
     "data": {
      "text/plain": [
       "Age                          3\n",
       "BusinessTravel               8\n",
       "DailyRate                   12\n",
       "Department                  11\n",
       "DistanceFromHome             9\n",
       "Education                   12\n",
       "EducationField               9\n",
       "EmployeeCount                5\n",
       "EmployeeNumber               1\n",
       "Application ID               3\n",
       "EnvironmentSatisfaction      9\n",
       "Gender                      10\n",
       "HourlyRate                   9\n",
       "JobInvolvement               9\n",
       "JobLevel                     7\n",
       "JobRole                      9\n",
       "JobSatisfaction              9\n",
       "MaritalStatus               11\n",
       "MonthlyIncome               13\n",
       "MonthlyRate                 11\n",
       "NumCompaniesWorked           9\n",
       "Over18                      10\n",
       "OverTime                    12\n",
       "PercentSalaryHike           14\n",
       "PerformanceRating           10\n",
       "RelationshipSatisfaction     8\n",
       "StandardHours               10\n",
       "StockOptionLevel             9\n",
       "TotalWorkingYears            8\n",
       "TrainingTimesLastYear       11\n",
       "WorkLifeBalance             10\n",
       "YearsAtCompany              13\n",
       "YearsInCurrentRole          15\n",
       "YearsSinceLastPromotion     11\n",
       "YearsWithCurrManager         7\n",
       "Employee Source             12\n",
       "attrition                   13\n",
       "dtype: int64"
      ]
     },
     "execution_count": 6,
     "metadata": {},
     "output_type": "execute_result"
    }
   ],
   "source": [
    "HR_data.isnull().sum()"
   ]
  },
  {
   "cell_type": "markdown",
   "id": "9bfb482a",
   "metadata": {},
   "source": [
    "Before filling the null values we have to check the outliers"
   ]
  },
  {
   "cell_type": "code",
   "execution_count": 7,
   "id": "7897fbbc",
   "metadata": {},
   "outputs": [
    {
     "data": {
      "image/png": "[encoded data removed]",
      "text/plain": [
       "<Figure size 1080x1080 with 25 Axes>"
      ]
     },
     "metadata": {
      "needs_background": "light"
     },
     "output_type": "display_data"
    }
   ],
   "source": [
    "#outlier visualization \n",
    "HR_data.plot(kind='box',subplots=True,layout=(5,5),figsize=(15,15),title='Outlier Visualization')\n",
    "plt.show()"
   ]
  },
  {
   "cell_type": "code",
   "execution_count": 8,
   "id": "cafd6a11",
   "metadata": {},
   "outputs": [
    {
     "data": {
      "text/plain": [
       "Age                         float64\n",
       "BusinessTravel               object\n",
       "DailyRate                   float64\n",
       "Department                   object\n",
       "DistanceFromHome             object\n",
       "Education                   float64\n",
       "EducationField               object\n",
       "EmployeeCount                object\n",
       "EmployeeNumber               object\n",
       "Application ID               object\n",
       "EnvironmentSatisfaction     float64\n",
       "Gender                       object\n",
       "HourlyRate                   object\n",
       "JobInvolvement              float64\n",
       "JobLevel                    float64\n",
       "JobRole                      object\n",
       "JobSatisfaction              object\n",
       "MaritalStatus                object\n",
       "MonthlyIncome                object\n",
       "MonthlyRate                 float64\n",
       "NumCompaniesWorked          float64\n",
       "Over18                       object\n",
       "OverTime                     object\n",
       "PercentSalaryHike            object\n",
       "PerformanceRating           float64\n",
       "RelationshipSatisfaction    float64\n",
       "StandardHours               float64\n",
       "StockOptionLevel            float64\n",
       "TotalWorkingYears           float64\n",
       "TrainingTimesLastYear       float64\n",
       "WorkLifeBalance             float64\n",
       "YearsAtCompany              float64\n",
       "YearsInCurrentRole          float64\n",
       "YearsSinceLastPromotion     float64\n",
       "YearsWithCurrManager        float64\n",
       "Employee Source              object\n",
       "attrition                    object\n",
       "dtype: object"
      ]
     },
     "execution_count": 8,
     "metadata": {},
     "output_type": "execute_result"
    }
   ],
   "source": [
    "HR_data.dtypes"
   ]
  },
  {
   "cell_type": "code",
   "execution_count": 9,
   "id": "9e1816dd",
   "metadata": {
    "scrolled": true
   },
   "outputs": [
    {
     "data": {
      "text/plain": [
       "Index(['Age', 'BusinessTravel', 'DailyRate', 'Department', 'DistanceFromHome',\n",
       "       'Education', 'EducationField', 'EmployeeCount', 'EmployeeNumber',\n",
       "       'Application ID', 'EnvironmentSatisfaction', 'Gender', 'HourlyRate',\n",
       "       'JobInvolvement', 'JobLevel', 'JobRole', 'JobSatisfaction',\n",
       "       'MaritalStatus', 'MonthlyIncome', 'MonthlyRate', 'NumCompaniesWorked',\n",
       "       'Over18', 'OverTime', 'PercentSalaryHike', 'PerformanceRating',\n",
       "       'RelationshipSatisfaction', 'StandardHours', 'StockOptionLevel',\n",
       "       'TotalWorkingYears', 'TrainingTimesLastYear', 'WorkLifeBalance',\n",
       "       'YearsAtCompany', 'YearsInCurrentRole', 'YearsSinceLastPromotion',\n",
       "       'YearsWithCurrManager', 'Employee Source', 'attrition'],\n",
       "      dtype='object')"
      ]
     },
     "execution_count": 9,
     "metadata": {},
     "output_type": "execute_result"
    }
   ],
   "source": [
    "HR_data.columns"
   ]
  },
  {
   "cell_type": "markdown",
   "id": "0e12ac8c",
   "metadata": {},
   "source": [
    "Features 'EnvironmentSatisfaction', 'NumCompaniesWorked', 'JobInvolvement','PerformanceRating','StandardHours','StockOptionLevel',\n",
    "'TotalWorkingYears', 'TrainingTimesLastYear''YearsAtCompany', 'YearsInCurrentRole', 'YearsSinceLastPromotion',\n",
    "       'YearsWithCurrManager' are having outliers so filling vaues in these features using median "
   ]
  },
  {
   "cell_type": "code",
   "execution_count": 10,
   "id": "6de8d035",
   "metadata": {},
   "outputs": [],
   "source": [
    "\n",
    "for i in ['EnvironmentSatisfaction', 'NumCompaniesWorked', 'JobInvolvement','PerformanceRating','StandardHours','StockOptionLevel', 'TotalWorkingYears', 'TrainingTimesLastYear','YearsAtCompany', 'YearsInCurrentRole', 'YearsSinceLastPromotion', 'YearsWithCurrManager']:\n",
    "    HR_data[i]=HR_data[i].fillna(HR_data[i].median())"
   ]
  },
  {
   "cell_type": "markdown",
   "id": "4d000e68",
   "metadata": {},
   "source": [
    "Features 'Age','DailyRate','Education','JobLevel','MonthlyRate','WorkLifeBalance','RelationshipSatisfaction' doesn't have outliers,so filling missing values using mean"
   ]
  },
  {
   "cell_type": "code",
   "execution_count": 11,
   "id": "aaf27528",
   "metadata": {},
   "outputs": [],
   "source": [
    "for i in ['Age','DailyRate','Education','JobLevel','MonthlyRate','WorkLifeBalance','RelationshipSatisfaction']:\n",
    "     HR_data[i]=HR_data[i].fillna(HR_data[i].mean()) "
   ]
  },
  {
   "cell_type": "markdown",
   "id": "9092ef9c",
   "metadata": {},
   "source": [
    "features BusinessTravel,Department,DistanceFromHome,EducationField,EmployeeCount,EmployeeNumber,Application ID,Gender,HourlyRate,JobRole,JobSatisfaction,MaritalStatus,MonthlyIncome,Over18,OverTime, PercentSalaryHike,Employee Source,attrition are categorial datas,so we are filling values in these features using mode"
   ]
  },
  {
   "cell_type": "code",
   "execution_count": 14,
   "id": "3797ed8a",
   "metadata": {},
   "outputs": [],
   "source": [
    "for i in [\"BusinessTravel\",\"Department\",\"DistanceFromHome\",\"EducationField\",\"EmployeeCount\",\"Gender\",\"HourlyRate\",\"JobRole\",\"JobSatisfaction\",\"MaritalStatus\",\"MonthlyIncome\",\"Over18\",\"OverTime\",\"PercentSalaryHike\",\"Employee Source\",\"attrition\"]:\n",
    "    HR_data[i]=HR_data[i].fillna(HR_data[i].mode())"
   ]
  },
  {
   "cell_type": "code",
   "execution_count": 15,
   "id": "99b0a583",
   "metadata": {},
   "outputs": [
    {
     "data": {
      "text/plain": [
       "Age                          0\n",
       "BusinessTravel               8\n",
       "DailyRate                    0\n",
       "Department                  11\n",
       "DistanceFromHome             9\n",
       "Education                    0\n",
       "EducationField               9\n",
       "EmployeeCount                5\n",
       "EmployeeNumber               1\n",
       "Application ID               3\n",
       "EnvironmentSatisfaction      0\n",
       "Gender                      10\n",
       "HourlyRate                   9\n",
       "JobInvolvement               0\n",
       "JobLevel                     0\n",
       "JobRole                      9\n",
       "JobSatisfaction              9\n",
       "MaritalStatus               11\n",
       "MonthlyIncome               13\n",
       "MonthlyRate                  0\n",
       "NumCompaniesWorked           0\n",
       "Over18                      10\n",
       "OverTime                    12\n",
       "PercentSalaryHike           14\n",
       "PerformanceRating            0\n",
       "RelationshipSatisfaction     0\n",
       "StandardHours                0\n",
       "StockOptionLevel             0\n",
       "TotalWorkingYears            0\n",
       "TrainingTimesLastYear        0\n",
       "WorkLifeBalance              0\n",
       "YearsAtCompany               0\n",
       "YearsInCurrentRole           0\n",
       "YearsSinceLastPromotion      0\n",
       "YearsWithCurrManager         0\n",
       "Employee Source             12\n",
       "attrition                   13\n",
       "dtype: int64"
      ]
     },
     "execution_count": 15,
     "metadata": {},
     "output_type": "execute_result"
    }
   ],
   "source": [
    "HR_data.isnull().sum()"
   ]
  },
  {
   "cell_type": "code",
   "execution_count": null,
   "id": "34d6b0dd",
   "metadata": {},
   "outputs": [],
   "source": []
  },
  {
   "cell_type": "markdown",
   "id": "a7a68333",
   "metadata": {},
   "source": [
    "# 4 ) Preparing Dataset"
   ]
  },
  {
   "cell_type": "markdown",
   "id": "bc1520cd",
   "metadata": {},
   "source": [
    "Before feeding our data into a ML model we first need to prepare the data. This includes encoding all the categorical features (either LabelEncoding or the OneHotEncoding) as the model expects the features to be in numerical form. Also for better performance we will do the feature scaling ie bringing all the features onto the same scale by using the StandardScaler provided in the scikit library."
   ]
  },
  {
   "cell_type": "markdown",
   "id": "67791ea6",
   "metadata": {},
   "source": [
    "# 4.1 ) Feature Encoding"
   ]
  },
  {
   "cell_type": "markdown",
   "id": "fba52327",
   "metadata": {},
   "source": [
    "I have used the Label Encoder from the scikit library to encode all the categorical features."
   ]
  },
  {
   "cell_type": "code",
   "execution_count": null,
   "id": "4ec7357e",
   "metadata": {},
   "outputs": [],
   "source": [
    "def transform(feature):\n",
    "    le=LabelEncoder()\n",
    "    HR_data[feature]=le.fit_transform(HR_data[feature])\n",
    "    print(le.classes_)\n",
    "    "
   ]
  },
  {
   "cell_type": "code",
   "execution_count": null,
   "id": "6439679a",
   "metadata": {},
   "outputs": [],
   "source": [
    "cat_HR_data=data.select_dtypes(include='object')\n",
    "cat_HR_data.columns"
   ]
  },
  {
   "cell_type": "code",
   "execution_count": null,
   "id": "1852920f",
   "metadata": {},
   "outputs": [],
   "source": [
    "for col in cat_HR_data.columns:\n",
    "    transform(col)"
   ]
  },
  {
   "cell_type": "code",
   "execution_count": null,
   "id": "62e9d2f7",
   "metadata": {},
   "outputs": [],
   "source": [
    "HR_data.head() "
   ]
  },
  {
   "cell_type": "markdown",
   "id": "c4b0bb38",
   "metadata": {},
   "source": [
    "# 4.2 ) Feature Scaling"
   ]
  },
  {
   "cell_type": "markdown",
   "id": "696b4ab6",
   "metadata": {},
   "source": [
    "The scikit library provides various types of scalers including MinMax Scaler and the StandardScaler. Below I have used the StandardScaler to scale the data."
   ]
  },
  {
   "cell_type": "code",
   "execution_count": null,
   "id": "ab78c549",
   "metadata": {},
   "outputs": [],
   "source": [
    "scaler=StandardScaler()\n",
    "scaled_HR_data=scaler.fit_transform(HR_data.drop('attrition',axis=1))\n",
    "X=scaled_HR_data\n",
    "Y=HR_data['attrition'].as_matrix()"
   ]
  },
  {
   "cell_type": "markdown",
   "id": "c3ea746d",
   "metadata": {},
   "source": [
    "# 4.3 ) One Hot Encoding the Target"
   ]
  },
  {
   "cell_type": "code",
   "execution_count": null,
   "id": "0d0e3a1e",
   "metadata": {},
   "outputs": [],
   "source": [
    "Y=to_categorical(Y)\n",
    "Y"
   ]
  },
  {
   "cell_type": "code",
   "execution_count": null,
   "id": "d919d726",
   "metadata": {},
   "outputs": [],
   "source": []
  },
  {
   "cell_type": "code",
   "execution_count": null,
   "id": "e06c91f5",
   "metadata": {},
   "outputs": [],
   "source": []
  }
 ],
 "metadata": {
  "kernelspec": {
   "display_name": "Python 3 (ipykernel)",
   "language": "python",
   "name": "python3"
  },
  "language_info": {
   "codemirror_mode": {
    "name": "ipython",
    "version": 3
   },
   "file_extension": ".py",
   "mimetype": "text/x-python",
   "name": "python",
   "nbconvert_exporter": "python",
   "pygments_lexer": "ipython3",
   "version": "3.9.12"
  }
 },
 "nbformat": 4,
 "nbformat_minor": 5
}
